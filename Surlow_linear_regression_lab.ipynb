{
  "cells": [
    {
      "cell_type": "markdown",
      "metadata": {
        "id": "rkCoRejaKDw_"
      },
      "source": [
        "# Assign 2: Linear Regression Lab\n",
        "\n",
        "In this first lab you will fit a linear regression model. You will also dig deeper by 'training' a linear regression model manually in a few different ways.\n",
        "\n",
        "You might be wondering, \"*why all the excitement about linear regression?*\"  It so happens that regression is one of the workhorses of machine learning, and it also underlies other more complex types of models.  The advantage of regression models is that they are highly interpretable and very stable when it comes to training/fitting. In fact, linear regression models, particularly multiple linear regression with many input predictors, can mimic a lot of the power of more complex models, such as neural networks, while maintaining their computational stability and interpretability. There is a long running joke/meme about companies that claim to use \"machine learning\" actually use linear regression (and logistic regression, which we'll soon see more of). This isn't entirely a joke though since even if a company is using very powerful/complex types of models (e.g. deep neural networks), they will almost always have already tried using a linear regression model because it would be the cheaper and faster solution.  In other words, linear regression is almost always the default modeling approach, and is sometimes hard to beat!\n",
        "\n",
        "*Note that this notebook uses some content from a [course at NYU](https://cims.nyu.edu/~brenden/courses/labincp/labs/LabReg-IntroToRegression.html), which itself borrowed content from [General Assembly's Data Science](https://github.com/justmarkham/DAT4) course, which claims to have adapted materials one of the most authoratative texts on the subject, [An Introduction to Statistical Learning](http://www-bcf.usc.edu/~gareth/ISL/).*\n",
        "\n",
        "\n",
        "Next, we would typically load the Python libraries/modules that we'll use. However, these have been commented because we will load each module individually just before we use it, so that we can start to understand which modules does what."
      ]
    },
    {
      "cell_type": "code",
      "execution_count": 2,
      "metadata": {
        "id": "9BuhjeZSKDxE"
      },
      "outputs": [],
      "source": [
        "#from IPython.core.display import HTML, Markdown #, display\n",
        "#from sklearn import linear_model\n",
        "\n",
        "#import numpy.random as npr\n",
        "#import numpy as np\n",
        "#import pandas as pd\n",
        "#import seaborn as sns\n",
        "#import matplotlib.pyplot as plt\n",
        "#import scipy.stats as stats\n",
        "#import statsmodels.formula.api as smf\n",
        "#import ipywidgets as widgets"
      ]
    },
    {
      "cell_type": "markdown",
      "metadata": {
        "id": "ceVSU_fxKDxP"
      },
      "source": [
        "We are going to use the [statsmodels](https://www.statsmodels.org/stable/index.html) python package to fit our regression model because it has a lot of nice outputs which are helpful for interpreting regressions.  However, you could do almost all of the same using the [scikit-learn](https://scikit-learn.org/stable/) package, which is a more general package for machine learning than can perform various types of sophisticated regression, classification, clustering, and dimensionality reduction steps."
      ]
    },
    {
      "cell_type": "markdown",
      "metadata": {
        "id": "NSXnUvMtKDxR"
      },
      "source": [
        "## Loading the dataset\n",
        "\n",
        "Before training/fitting any model we need data. Below we will load a dataset from the text, [Learning Statistics with R](https://kpu.pressbooks.pub/learningstatistics/). The dataset will help us to explore the factors that lead to a parent being grumpy after having a baby.\n",
        "\n",
        "The data is located in a public github repository but loading will be no different than if it were a local file in our computer. We simply use the link to the file and open it with the [pandas](https://pandas.pydata.org) Python module `read_csv` command.\n",
        "\n",
        "Also, let's look at the first few rows of data. Note that one row can be thought of as one *observation*."
      ]
    },
    {
      "cell_type": "code",
      "execution_count": 3,
      "metadata": {
        "id": "cgYeqZhMKDxT",
        "outputId": "2e39e169-6613-43be-d541-372855875ccd",
        "colab": {
          "base_uri": "https://localhost:8080/",
          "height": 206
        }
      },
      "outputs": [
        {
          "output_type": "execute_result",
          "data": {
            "text/plain": [
              "   day  parent_sleep  baby_sleep  parent_grumpy\n",
              "0    1          7.59       10.18             56\n",
              "1    2          7.91       11.66             60\n",
              "2    3          5.14        7.92             82\n",
              "3    4          7.71        9.61             55\n",
              "4    5          6.68        9.75             67"
            ],
            "text/html": [
              "\n",
              "  <div id=\"df-4459ce4a-8da8-4012-adc1-3e9fd41cb068\" class=\"colab-df-container\">\n",
              "    <div>\n",
              "<style scoped>\n",
              "    .dataframe tbody tr th:only-of-type {\n",
              "        vertical-align: middle;\n",
              "    }\n",
              "\n",
              "    .dataframe tbody tr th {\n",
              "        vertical-align: top;\n",
              "    }\n",
              "\n",
              "    .dataframe thead th {\n",
              "        text-align: right;\n",
              "    }\n",
              "</style>\n",
              "<table border=\"1\" class=\"dataframe\">\n",
              "  <thead>\n",
              "    <tr style=\"text-align: right;\">\n",
              "      <th></th>\n",
              "      <th>day</th>\n",
              "      <th>parent_sleep</th>\n",
              "      <th>baby_sleep</th>\n",
              "      <th>parent_grumpy</th>\n",
              "    </tr>\n",
              "  </thead>\n",
              "  <tbody>\n",
              "    <tr>\n",
              "      <th>0</th>\n",
              "      <td>1</td>\n",
              "      <td>7.59</td>\n",
              "      <td>10.18</td>\n",
              "      <td>56</td>\n",
              "    </tr>\n",
              "    <tr>\n",
              "      <th>1</th>\n",
              "      <td>2</td>\n",
              "      <td>7.91</td>\n",
              "      <td>11.66</td>\n",
              "      <td>60</td>\n",
              "    </tr>\n",
              "    <tr>\n",
              "      <th>2</th>\n",
              "      <td>3</td>\n",
              "      <td>5.14</td>\n",
              "      <td>7.92</td>\n",
              "      <td>82</td>\n",
              "    </tr>\n",
              "    <tr>\n",
              "      <th>3</th>\n",
              "      <td>4</td>\n",
              "      <td>7.71</td>\n",
              "      <td>9.61</td>\n",
              "      <td>55</td>\n",
              "    </tr>\n",
              "    <tr>\n",
              "      <th>4</th>\n",
              "      <td>5</td>\n",
              "      <td>6.68</td>\n",
              "      <td>9.75</td>\n",
              "      <td>67</td>\n",
              "    </tr>\n",
              "  </tbody>\n",
              "</table>\n",
              "</div>\n",
              "    <div class=\"colab-df-buttons\">\n",
              "\n",
              "  <div class=\"colab-df-container\">\n",
              "    <button class=\"colab-df-convert\" onclick=\"convertToInteractive('df-4459ce4a-8da8-4012-adc1-3e9fd41cb068')\"\n",
              "            title=\"Convert this dataframe to an interactive table.\"\n",
              "            style=\"display:none;\">\n",
              "\n",
              "  <svg xmlns=\"http://www.w3.org/2000/svg\" height=\"24px\" viewBox=\"0 -960 960 960\">\n",
              "    <path d=\"M120-120v-720h720v720H120Zm60-500h600v-160H180v160Zm220 220h160v-160H400v160Zm0 220h160v-160H400v160ZM180-400h160v-160H180v160Zm440 0h160v-160H620v160ZM180-180h160v-160H180v160Zm440 0h160v-160H620v160Z\"/>\n",
              "  </svg>\n",
              "    </button>\n",
              "\n",
              "  <style>\n",
              "    .colab-df-container {\n",
              "      display:flex;\n",
              "      gap: 12px;\n",
              "    }\n",
              "\n",
              "    .colab-df-convert {\n",
              "      background-color: #E8F0FE;\n",
              "      border: none;\n",
              "      border-radius: 50%;\n",
              "      cursor: pointer;\n",
              "      display: none;\n",
              "      fill: #1967D2;\n",
              "      height: 32px;\n",
              "      padding: 0 0 0 0;\n",
              "      width: 32px;\n",
              "    }\n",
              "\n",
              "    .colab-df-convert:hover {\n",
              "      background-color: #E2EBFA;\n",
              "      box-shadow: 0px 1px 2px rgba(60, 64, 67, 0.3), 0px 1px 3px 1px rgba(60, 64, 67, 0.15);\n",
              "      fill: #174EA6;\n",
              "    }\n",
              "\n",
              "    .colab-df-buttons div {\n",
              "      margin-bottom: 4px;\n",
              "    }\n",
              "\n",
              "    [theme=dark] .colab-df-convert {\n",
              "      background-color: #3B4455;\n",
              "      fill: #D2E3FC;\n",
              "    }\n",
              "\n",
              "    [theme=dark] .colab-df-convert:hover {\n",
              "      background-color: #434B5C;\n",
              "      box-shadow: 0px 1px 3px 1px rgba(0, 0, 0, 0.15);\n",
              "      filter: drop-shadow(0px 1px 2px rgba(0, 0, 0, 0.3));\n",
              "      fill: #FFFFFF;\n",
              "    }\n",
              "  </style>\n",
              "\n",
              "    <script>\n",
              "      const buttonEl =\n",
              "        document.querySelector('#df-4459ce4a-8da8-4012-adc1-3e9fd41cb068 button.colab-df-convert');\n",
              "      buttonEl.style.display =\n",
              "        google.colab.kernel.accessAllowed ? 'block' : 'none';\n",
              "\n",
              "      async function convertToInteractive(key) {\n",
              "        const element = document.querySelector('#df-4459ce4a-8da8-4012-adc1-3e9fd41cb068');\n",
              "        const dataTable =\n",
              "          await google.colab.kernel.invokeFunction('convertToInteractive',\n",
              "                                                    [key], {});\n",
              "        if (!dataTable) return;\n",
              "\n",
              "        const docLinkHtml = 'Like what you see? Visit the ' +\n",
              "          '<a target=\"_blank\" href=https://colab.research.google.com/notebooks/data_table.ipynb>data table notebook</a>'\n",
              "          + ' to learn more about interactive tables.';\n",
              "        element.innerHTML = '';\n",
              "        dataTable['output_type'] = 'display_data';\n",
              "        await google.colab.output.renderOutput(dataTable, element);\n",
              "        const docLink = document.createElement('div');\n",
              "        docLink.innerHTML = docLinkHtml;\n",
              "        element.appendChild(docLink);\n",
              "      }\n",
              "    </script>\n",
              "  </div>\n",
              "\n",
              "\n",
              "<div id=\"df-18a96d2e-84d2-4aaa-8a46-6c77fe51544f\">\n",
              "  <button class=\"colab-df-quickchart\" onclick=\"quickchart('df-18a96d2e-84d2-4aaa-8a46-6c77fe51544f')\"\n",
              "            title=\"Suggest charts\"\n",
              "            style=\"display:none;\">\n",
              "\n",
              "<svg xmlns=\"http://www.w3.org/2000/svg\" height=\"24px\"viewBox=\"0 0 24 24\"\n",
              "     width=\"24px\">\n",
              "    <g>\n",
              "        <path d=\"M19 3H5c-1.1 0-2 .9-2 2v14c0 1.1.9 2 2 2h14c1.1 0 2-.9 2-2V5c0-1.1-.9-2-2-2zM9 17H7v-7h2v7zm4 0h-2V7h2v10zm4 0h-2v-4h2v4z\"/>\n",
              "    </g>\n",
              "</svg>\n",
              "  </button>\n",
              "\n",
              "<style>\n",
              "  .colab-df-quickchart {\n",
              "      --bg-color: #E8F0FE;\n",
              "      --fill-color: #1967D2;\n",
              "      --hover-bg-color: #E2EBFA;\n",
              "      --hover-fill-color: #174EA6;\n",
              "      --disabled-fill-color: #AAA;\n",
              "      --disabled-bg-color: #DDD;\n",
              "  }\n",
              "\n",
              "  [theme=dark] .colab-df-quickchart {\n",
              "      --bg-color: #3B4455;\n",
              "      --fill-color: #D2E3FC;\n",
              "      --hover-bg-color: #434B5C;\n",
              "      --hover-fill-color: #FFFFFF;\n",
              "      --disabled-bg-color: #3B4455;\n",
              "      --disabled-fill-color: #666;\n",
              "  }\n",
              "\n",
              "  .colab-df-quickchart {\n",
              "    background-color: var(--bg-color);\n",
              "    border: none;\n",
              "    border-radius: 50%;\n",
              "    cursor: pointer;\n",
              "    display: none;\n",
              "    fill: var(--fill-color);\n",
              "    height: 32px;\n",
              "    padding: 0;\n",
              "    width: 32px;\n",
              "  }\n",
              "\n",
              "  .colab-df-quickchart:hover {\n",
              "    background-color: var(--hover-bg-color);\n",
              "    box-shadow: 0 1px 2px rgba(60, 64, 67, 0.3), 0 1px 3px 1px rgba(60, 64, 67, 0.15);\n",
              "    fill: var(--button-hover-fill-color);\n",
              "  }\n",
              "\n",
              "  .colab-df-quickchart-complete:disabled,\n",
              "  .colab-df-quickchart-complete:disabled:hover {\n",
              "    background-color: var(--disabled-bg-color);\n",
              "    fill: var(--disabled-fill-color);\n",
              "    box-shadow: none;\n",
              "  }\n",
              "\n",
              "  .colab-df-spinner {\n",
              "    border: 2px solid var(--fill-color);\n",
              "    border-color: transparent;\n",
              "    border-bottom-color: var(--fill-color);\n",
              "    animation:\n",
              "      spin 1s steps(1) infinite;\n",
              "  }\n",
              "\n",
              "  @keyframes spin {\n",
              "    0% {\n",
              "      border-color: transparent;\n",
              "      border-bottom-color: var(--fill-color);\n",
              "      border-left-color: var(--fill-color);\n",
              "    }\n",
              "    20% {\n",
              "      border-color: transparent;\n",
              "      border-left-color: var(--fill-color);\n",
              "      border-top-color: var(--fill-color);\n",
              "    }\n",
              "    30% {\n",
              "      border-color: transparent;\n",
              "      border-left-color: var(--fill-color);\n",
              "      border-top-color: var(--fill-color);\n",
              "      border-right-color: var(--fill-color);\n",
              "    }\n",
              "    40% {\n",
              "      border-color: transparent;\n",
              "      border-right-color: var(--fill-color);\n",
              "      border-top-color: var(--fill-color);\n",
              "    }\n",
              "    60% {\n",
              "      border-color: transparent;\n",
              "      border-right-color: var(--fill-color);\n",
              "    }\n",
              "    80% {\n",
              "      border-color: transparent;\n",
              "      border-right-color: var(--fill-color);\n",
              "      border-bottom-color: var(--fill-color);\n",
              "    }\n",
              "    90% {\n",
              "      border-color: transparent;\n",
              "      border-bottom-color: var(--fill-color);\n",
              "    }\n",
              "  }\n",
              "</style>\n",
              "\n",
              "  <script>\n",
              "    async function quickchart(key) {\n",
              "      const quickchartButtonEl =\n",
              "        document.querySelector('#' + key + ' button');\n",
              "      quickchartButtonEl.disabled = true;  // To prevent multiple clicks.\n",
              "      quickchartButtonEl.classList.add('colab-df-spinner');\n",
              "      try {\n",
              "        const charts = await google.colab.kernel.invokeFunction(\n",
              "            'suggestCharts', [key], {});\n",
              "      } catch (error) {\n",
              "        console.error('Error during call to suggestCharts:', error);\n",
              "      }\n",
              "      quickchartButtonEl.classList.remove('colab-df-spinner');\n",
              "      quickchartButtonEl.classList.add('colab-df-quickchart-complete');\n",
              "    }\n",
              "    (() => {\n",
              "      let quickchartButtonEl =\n",
              "        document.querySelector('#df-18a96d2e-84d2-4aaa-8a46-6c77fe51544f button');\n",
              "      quickchartButtonEl.style.display =\n",
              "        google.colab.kernel.accessAllowed ? 'block' : 'none';\n",
              "    })();\n",
              "  </script>\n",
              "</div>\n",
              "\n",
              "    </div>\n",
              "  </div>\n"
            ],
            "application/vnd.google.colaboratory.intrinsic+json": {
              "type": "dataframe",
              "variable_name": "df",
              "summary": "{\n  \"name\": \"df\",\n  \"rows\": 100,\n  \"fields\": [\n    {\n      \"column\": \"day\",\n      \"properties\": {\n        \"dtype\": \"number\",\n        \"std\": 29,\n        \"min\": 1,\n        \"max\": 100,\n        \"num_unique_values\": 100,\n        \"samples\": [\n          84,\n          54,\n          71\n        ],\n        \"semantic_type\": \"\",\n        \"description\": \"\"\n      }\n    },\n    {\n      \"column\": \"parent_sleep\",\n      \"properties\": {\n        \"dtype\": \"number\",\n        \"std\": 1.0158844283269488,\n        \"min\": 4.84,\n        \"max\": 9.0,\n        \"num_unique_values\": 90,\n        \"samples\": [\n          7.47,\n          6.86,\n          6.22\n        ],\n        \"semantic_type\": \"\",\n        \"description\": \"\"\n      }\n    },\n    {\n      \"column\": \"baby_sleep\",\n      \"properties\": {\n        \"dtype\": \"number\",\n        \"std\": 2.0742318427248527,\n        \"min\": 3.25,\n        \"max\": 12.07,\n        \"num_unique_values\": 88,\n        \"samples\": [\n          9.09,\n          10.18,\n          7.95\n        ],\n        \"semantic_type\": \"\",\n        \"description\": \"\"\n      }\n    },\n    {\n      \"column\": \"parent_grumpy\",\n      \"properties\": {\n        \"dtype\": \"number\",\n        \"std\": 10,\n        \"min\": 41,\n        \"max\": 91,\n        \"num_unique_values\": 37,\n        \"samples\": [\n          59,\n          52,\n          67\n        ],\n        \"semantic_type\": \"\",\n        \"description\": \"\"\n      }\n    }\n  ]\n}"
            }
          },
          "metadata": {},
          "execution_count": 3
        }
      ],
      "source": [
        "import pandas as pd\n",
        "\n",
        "df = pd.read_csv('https://raw.githubusercontent.com/sgeinitz/CS3120/main/lab1_data_parenthood.csv')\n",
        "df.head()"
      ]
    },
    {
      "cell_type": "markdown",
      "metadata": {
        "id": "QNfz-X6eKDxU"
      },
      "source": [
        "For this dataset one observation consists of the following fields or columns:\n",
        "\n",
        "* `day` - the day of the baby's life and the day that the observation was made  \n",
        "* `parent_sleep` - number of hours of sleep the parent had the night before this day\n",
        "* `baby_sleep` - number of hours of sleep the baby had the night before this day\n",
        "* `parent_grumpy` - level of grumpiness of the parent on this day (this will be our `Y`, or what we will want to try to predict)\n",
        "\n",
        "To confirm that information, or if we didnt' know it ahead of time, we could use the pandas dataframe method, `describe`, to see some descriptive statistics for each column."
      ]
    },
    {
      "cell_type": "code",
      "execution_count": 4,
      "metadata": {
        "id": "aNxPXQEYKDxV",
        "outputId": "8fbebfbc-93c6-44d7-e27c-bc25c8b156c5",
        "colab": {
          "base_uri": "https://localhost:8080/",
          "height": 300
        }
      },
      "outputs": [
        {
          "output_type": "execute_result",
          "data": {
            "text/plain": [
              "              day  parent_sleep  baby_sleep  parent_grumpy\n",
              "count  100.000000    100.000000  100.000000      100.00000\n",
              "mean    50.500000      6.965200    8.049200       63.71000\n",
              "std     29.011492      1.015884    2.074232       10.04967\n",
              "min      1.000000      4.840000    3.250000       41.00000\n",
              "25%     25.750000      6.292500    6.425000       57.00000\n",
              "50%     50.500000      7.030000    7.950000       62.00000\n",
              "75%     75.250000      7.740000    9.635000       71.00000\n",
              "max    100.000000      9.000000   12.070000       91.00000"
            ],
            "text/html": [
              "\n",
              "  <div id=\"df-0aaf6f74-251b-4ad3-9e80-221eee156ee9\" class=\"colab-df-container\">\n",
              "    <div>\n",
              "<style scoped>\n",
              "    .dataframe tbody tr th:only-of-type {\n",
              "        vertical-align: middle;\n",
              "    }\n",
              "\n",
              "    .dataframe tbody tr th {\n",
              "        vertical-align: top;\n",
              "    }\n",
              "\n",
              "    .dataframe thead th {\n",
              "        text-align: right;\n",
              "    }\n",
              "</style>\n",
              "<table border=\"1\" class=\"dataframe\">\n",
              "  <thead>\n",
              "    <tr style=\"text-align: right;\">\n",
              "      <th></th>\n",
              "      <th>day</th>\n",
              "      <th>parent_sleep</th>\n",
              "      <th>baby_sleep</th>\n",
              "      <th>parent_grumpy</th>\n",
              "    </tr>\n",
              "  </thead>\n",
              "  <tbody>\n",
              "    <tr>\n",
              "      <th>count</th>\n",
              "      <td>100.000000</td>\n",
              "      <td>100.000000</td>\n",
              "      <td>100.000000</td>\n",
              "      <td>100.00000</td>\n",
              "    </tr>\n",
              "    <tr>\n",
              "      <th>mean</th>\n",
              "      <td>50.500000</td>\n",
              "      <td>6.965200</td>\n",
              "      <td>8.049200</td>\n",
              "      <td>63.71000</td>\n",
              "    </tr>\n",
              "    <tr>\n",
              "      <th>std</th>\n",
              "      <td>29.011492</td>\n",
              "      <td>1.015884</td>\n",
              "      <td>2.074232</td>\n",
              "      <td>10.04967</td>\n",
              "    </tr>\n",
              "    <tr>\n",
              "      <th>min</th>\n",
              "      <td>1.000000</td>\n",
              "      <td>4.840000</td>\n",
              "      <td>3.250000</td>\n",
              "      <td>41.00000</td>\n",
              "    </tr>\n",
              "    <tr>\n",
              "      <th>25%</th>\n",
              "      <td>25.750000</td>\n",
              "      <td>6.292500</td>\n",
              "      <td>6.425000</td>\n",
              "      <td>57.00000</td>\n",
              "    </tr>\n",
              "    <tr>\n",
              "      <th>50%</th>\n",
              "      <td>50.500000</td>\n",
              "      <td>7.030000</td>\n",
              "      <td>7.950000</td>\n",
              "      <td>62.00000</td>\n",
              "    </tr>\n",
              "    <tr>\n",
              "      <th>75%</th>\n",
              "      <td>75.250000</td>\n",
              "      <td>7.740000</td>\n",
              "      <td>9.635000</td>\n",
              "      <td>71.00000</td>\n",
              "    </tr>\n",
              "    <tr>\n",
              "      <th>max</th>\n",
              "      <td>100.000000</td>\n",
              "      <td>9.000000</td>\n",
              "      <td>12.070000</td>\n",
              "      <td>91.00000</td>\n",
              "    </tr>\n",
              "  </tbody>\n",
              "</table>\n",
              "</div>\n",
              "    <div class=\"colab-df-buttons\">\n",
              "\n",
              "  <div class=\"colab-df-container\">\n",
              "    <button class=\"colab-df-convert\" onclick=\"convertToInteractive('df-0aaf6f74-251b-4ad3-9e80-221eee156ee9')\"\n",
              "            title=\"Convert this dataframe to an interactive table.\"\n",
              "            style=\"display:none;\">\n",
              "\n",
              "  <svg xmlns=\"http://www.w3.org/2000/svg\" height=\"24px\" viewBox=\"0 -960 960 960\">\n",
              "    <path d=\"M120-120v-720h720v720H120Zm60-500h600v-160H180v160Zm220 220h160v-160H400v160Zm0 220h160v-160H400v160ZM180-400h160v-160H180v160Zm440 0h160v-160H620v160ZM180-180h160v-160H180v160Zm440 0h160v-160H620v160Z\"/>\n",
              "  </svg>\n",
              "    </button>\n",
              "\n",
              "  <style>\n",
              "    .colab-df-container {\n",
              "      display:flex;\n",
              "      gap: 12px;\n",
              "    }\n",
              "\n",
              "    .colab-df-convert {\n",
              "      background-color: #E8F0FE;\n",
              "      border: none;\n",
              "      border-radius: 50%;\n",
              "      cursor: pointer;\n",
              "      display: none;\n",
              "      fill: #1967D2;\n",
              "      height: 32px;\n",
              "      padding: 0 0 0 0;\n",
              "      width: 32px;\n",
              "    }\n",
              "\n",
              "    .colab-df-convert:hover {\n",
              "      background-color: #E2EBFA;\n",
              "      box-shadow: 0px 1px 2px rgba(60, 64, 67, 0.3), 0px 1px 3px 1px rgba(60, 64, 67, 0.15);\n",
              "      fill: #174EA6;\n",
              "    }\n",
              "\n",
              "    .colab-df-buttons div {\n",
              "      margin-bottom: 4px;\n",
              "    }\n",
              "\n",
              "    [theme=dark] .colab-df-convert {\n",
              "      background-color: #3B4455;\n",
              "      fill: #D2E3FC;\n",
              "    }\n",
              "\n",
              "    [theme=dark] .colab-df-convert:hover {\n",
              "      background-color: #434B5C;\n",
              "      box-shadow: 0px 1px 3px 1px rgba(0, 0, 0, 0.15);\n",
              "      filter: drop-shadow(0px 1px 2px rgba(0, 0, 0, 0.3));\n",
              "      fill: #FFFFFF;\n",
              "    }\n",
              "  </style>\n",
              "\n",
              "    <script>\n",
              "      const buttonEl =\n",
              "        document.querySelector('#df-0aaf6f74-251b-4ad3-9e80-221eee156ee9 button.colab-df-convert');\n",
              "      buttonEl.style.display =\n",
              "        google.colab.kernel.accessAllowed ? 'block' : 'none';\n",
              "\n",
              "      async function convertToInteractive(key) {\n",
              "        const element = document.querySelector('#df-0aaf6f74-251b-4ad3-9e80-221eee156ee9');\n",
              "        const dataTable =\n",
              "          await google.colab.kernel.invokeFunction('convertToInteractive',\n",
              "                                                    [key], {});\n",
              "        if (!dataTable) return;\n",
              "\n",
              "        const docLinkHtml = 'Like what you see? Visit the ' +\n",
              "          '<a target=\"_blank\" href=https://colab.research.google.com/notebooks/data_table.ipynb>data table notebook</a>'\n",
              "          + ' to learn more about interactive tables.';\n",
              "        element.innerHTML = '';\n",
              "        dataTable['output_type'] = 'display_data';\n",
              "        await google.colab.output.renderOutput(dataTable, element);\n",
              "        const docLink = document.createElement('div');\n",
              "        docLink.innerHTML = docLinkHtml;\n",
              "        element.appendChild(docLink);\n",
              "      }\n",
              "    </script>\n",
              "  </div>\n",
              "\n",
              "\n",
              "<div id=\"df-43c0388e-5ffe-4889-a330-cd51aa5f03e0\">\n",
              "  <button class=\"colab-df-quickchart\" onclick=\"quickchart('df-43c0388e-5ffe-4889-a330-cd51aa5f03e0')\"\n",
              "            title=\"Suggest charts\"\n",
              "            style=\"display:none;\">\n",
              "\n",
              "<svg xmlns=\"http://www.w3.org/2000/svg\" height=\"24px\"viewBox=\"0 0 24 24\"\n",
              "     width=\"24px\">\n",
              "    <g>\n",
              "        <path d=\"M19 3H5c-1.1 0-2 .9-2 2v14c0 1.1.9 2 2 2h14c1.1 0 2-.9 2-2V5c0-1.1-.9-2-2-2zM9 17H7v-7h2v7zm4 0h-2V7h2v10zm4 0h-2v-4h2v4z\"/>\n",
              "    </g>\n",
              "</svg>\n",
              "  </button>\n",
              "\n",
              "<style>\n",
              "  .colab-df-quickchart {\n",
              "      --bg-color: #E8F0FE;\n",
              "      --fill-color: #1967D2;\n",
              "      --hover-bg-color: #E2EBFA;\n",
              "      --hover-fill-color: #174EA6;\n",
              "      --disabled-fill-color: #AAA;\n",
              "      --disabled-bg-color: #DDD;\n",
              "  }\n",
              "\n",
              "  [theme=dark] .colab-df-quickchart {\n",
              "      --bg-color: #3B4455;\n",
              "      --fill-color: #D2E3FC;\n",
              "      --hover-bg-color: #434B5C;\n",
              "      --hover-fill-color: #FFFFFF;\n",
              "      --disabled-bg-color: #3B4455;\n",
              "      --disabled-fill-color: #666;\n",
              "  }\n",
              "\n",
              "  .colab-df-quickchart {\n",
              "    background-color: var(--bg-color);\n",
              "    border: none;\n",
              "    border-radius: 50%;\n",
              "    cursor: pointer;\n",
              "    display: none;\n",
              "    fill: var(--fill-color);\n",
              "    height: 32px;\n",
              "    padding: 0;\n",
              "    width: 32px;\n",
              "  }\n",
              "\n",
              "  .colab-df-quickchart:hover {\n",
              "    background-color: var(--hover-bg-color);\n",
              "    box-shadow: 0 1px 2px rgba(60, 64, 67, 0.3), 0 1px 3px 1px rgba(60, 64, 67, 0.15);\n",
              "    fill: var(--button-hover-fill-color);\n",
              "  }\n",
              "\n",
              "  .colab-df-quickchart-complete:disabled,\n",
              "  .colab-df-quickchart-complete:disabled:hover {\n",
              "    background-color: var(--disabled-bg-color);\n",
              "    fill: var(--disabled-fill-color);\n",
              "    box-shadow: none;\n",
              "  }\n",
              "\n",
              "  .colab-df-spinner {\n",
              "    border: 2px solid var(--fill-color);\n",
              "    border-color: transparent;\n",
              "    border-bottom-color: var(--fill-color);\n",
              "    animation:\n",
              "      spin 1s steps(1) infinite;\n",
              "  }\n",
              "\n",
              "  @keyframes spin {\n",
              "    0% {\n",
              "      border-color: transparent;\n",
              "      border-bottom-color: var(--fill-color);\n",
              "      border-left-color: var(--fill-color);\n",
              "    }\n",
              "    20% {\n",
              "      border-color: transparent;\n",
              "      border-left-color: var(--fill-color);\n",
              "      border-top-color: var(--fill-color);\n",
              "    }\n",
              "    30% {\n",
              "      border-color: transparent;\n",
              "      border-left-color: var(--fill-color);\n",
              "      border-top-color: var(--fill-color);\n",
              "      border-right-color: var(--fill-color);\n",
              "    }\n",
              "    40% {\n",
              "      border-color: transparent;\n",
              "      border-right-color: var(--fill-color);\n",
              "      border-top-color: var(--fill-color);\n",
              "    }\n",
              "    60% {\n",
              "      border-color: transparent;\n",
              "      border-right-color: var(--fill-color);\n",
              "    }\n",
              "    80% {\n",
              "      border-color: transparent;\n",
              "      border-right-color: var(--fill-color);\n",
              "      border-bottom-color: var(--fill-color);\n",
              "    }\n",
              "    90% {\n",
              "      border-color: transparent;\n",
              "      border-bottom-color: var(--fill-color);\n",
              "    }\n",
              "  }\n",
              "</style>\n",
              "\n",
              "  <script>\n",
              "    async function quickchart(key) {\n",
              "      const quickchartButtonEl =\n",
              "        document.querySelector('#' + key + ' button');\n",
              "      quickchartButtonEl.disabled = true;  // To prevent multiple clicks.\n",
              "      quickchartButtonEl.classList.add('colab-df-spinner');\n",
              "      try {\n",
              "        const charts = await google.colab.kernel.invokeFunction(\n",
              "            'suggestCharts', [key], {});\n",
              "      } catch (error) {\n",
              "        console.error('Error during call to suggestCharts:', error);\n",
              "      }\n",
              "      quickchartButtonEl.classList.remove('colab-df-spinner');\n",
              "      quickchartButtonEl.classList.add('colab-df-quickchart-complete');\n",
              "    }\n",
              "    (() => {\n",
              "      let quickchartButtonEl =\n",
              "        document.querySelector('#df-43c0388e-5ffe-4889-a330-cd51aa5f03e0 button');\n",
              "      quickchartButtonEl.style.display =\n",
              "        google.colab.kernel.accessAllowed ? 'block' : 'none';\n",
              "    })();\n",
              "  </script>\n",
              "</div>\n",
              "\n",
              "    </div>\n",
              "  </div>\n"
            ],
            "application/vnd.google.colaboratory.intrinsic+json": {
              "type": "dataframe",
              "summary": "{\n  \"name\": \"df\",\n  \"rows\": 8,\n  \"fields\": [\n    {\n      \"column\": \"day\",\n      \"properties\": {\n        \"dtype\": \"number\",\n        \"std\": 35.736237144555226,\n        \"min\": 1.0,\n        \"max\": 100.0,\n        \"num_unique_values\": 6,\n        \"samples\": [\n          100.0,\n          50.5,\n          75.25\n        ],\n        \"semantic_type\": \"\",\n        \"description\": \"\"\n      }\n    },\n    {\n      \"column\": \"parent_sleep\",\n      \"properties\": {\n        \"dtype\": \"number\",\n        \"std\": 33.275754474812146,\n        \"min\": 1.0158844283269488,\n        \"max\": 100.0,\n        \"num_unique_values\": 8,\n        \"samples\": [\n          6.965199999999999,\n          7.03,\n          100.0\n        ],\n        \"semantic_type\": \"\",\n        \"description\": \"\"\n      }\n    },\n    {\n      \"column\": \"baby_sleep\",\n      \"properties\": {\n        \"dtype\": \"number\",\n        \"std\": 33.01647807682308,\n        \"min\": 2.0742318427248527,\n        \"max\": 100.0,\n        \"num_unique_values\": 8,\n        \"samples\": [\n          8.049199999999999,\n          7.95,\n          100.0\n        ],\n        \"semantic_type\": \"\",\n        \"description\": \"\"\n      }\n    },\n    {\n      \"column\": \"parent_grumpy\",\n      \"properties\": {\n        \"dtype\": \"number\",\n        \"std\": 28.116476387973893,\n        \"min\": 10.049669575954155,\n        \"max\": 100.0,\n        \"num_unique_values\": 8,\n        \"samples\": [\n          63.71,\n          62.0,\n          100.0\n        ],\n        \"semantic_type\": \"\",\n        \"description\": \"\"\n      }\n    }\n  ]\n}"
            }
          },
          "metadata": {},
          "execution_count": 4
        }
      ],
      "source": [
        "df.describe()"
      ]
    },
    {
      "cell_type": "markdown",
      "metadata": {
        "id": "8xwJt8ZmKDxW"
      },
      "source": [
        "***\n",
        "### Q1: What does the column `parent_grumpy` look like? What is it's mean? What is it's minimum value? Maximum value? Based on all of that, what do you think the scale of grumpiness is? Is it between 1 and 10? Between -1 and 1?\n",
        "\n",
        "The scale of grumpiness is between 1 and 100.\n",
        "***"
      ]
    },
    {
      "cell_type": "markdown",
      "metadata": {
        "id": "dc50gxTTKDxX"
      },
      "source": [
        "Next, let's look at if or how the columns are related to one another. There are descriptive statistics that we can calculate to do this but typically it's best to simply look at the data and see what it looks like.\n",
        "\n",
        "We'll use the Python module [seaborn](https://seaborn.pydata.org), which is for plotting and visualizing data."
      ]
    },
    {
      "cell_type": "code",
      "execution_count": 5,
      "metadata": {
        "id": "jrZDQWC5KDxd",
        "outputId": "5bc3cbab-1aec-48c3-d567-97b5c94b9c06",
        "colab": {
          "base_uri": "https://localhost:8080/",
          "height": 467
        }
      },
      "outputs": [
        {
          "output_type": "execute_result",
          "data": {
            "text/plain": [
              "<Axes: xlabel='day', ylabel='parent_grumpy'>"
            ]
          },
          "metadata": {},
          "execution_count": 5
        },
        {
          "output_type": "display_data",
          "data": {
            "text/plain": [
              "<Figure size 640x480 with 1 Axes>"
            ],
            "image/png": "[encoded data removed]"
          },
          "metadata": {}
        }
      ],
      "source": [
        "import seaborn as sns\n",
        "\n",
        "sns.scatterplot(data=df, x='day', y='parent_grumpy')"
      ]
    },
    {
      "cell_type": "markdown",
      "metadata": {
        "id": "AwWdmUX1KDxe"
      },
      "source": [
        "***\n",
        "### Q2: Does there appear to be a relationship of any kind between day and how grumpy the parent is? In other words, does a parent's level of grumpiness get better or worse in the first 100 days of baby's life? Is there any type of pattern in how these two variables are related?\n",
        "\n",
        "\\<input your answer here - note that you should justify your answer by describing what you see in the scatter plot above\\>\n",
        "\n",
        "There appears to be no relation between the days and the grumpiness of the parent.  The scatterplot above shows dots randomly appearing across the entirety of both axis, showing little to no signs of a correlation (≈0.2).\n",
        "***"
      ]
    },
    {
      "cell_type": "markdown",
      "metadata": {
        "id": "XDynGxjKKDxh"
      },
      "source": [
        "Next, let's look at the other fields versus a parent's level of grumpiness. Note that we'll now use the other common Python module for plotting and visualization, matplotlib. This module is lower-level than seaborn which allows us to create multiple plots side by side, and manipulate other small details of plots."
      ]
    },
    {
      "cell_type": "code",
      "execution_count": 6,
      "metadata": {
        "id": "1QS3giVfKDxi",
        "outputId": "47834ddd-ef99-4d77-89d1-28e98eb6d707",
        "colab": {
          "base_uri": "https://localhost:8080/",
          "height": 388
        }
      },
      "outputs": [
        {
          "output_type": "display_data",
          "data": {
            "text/plain": [
              "<Figure size 1000x400 with 2 Axes>"
            ],
            "image/png": "[encoded data removed]"
          },
          "metadata": {}
        }
      ],
      "source": [
        "import matplotlib.pyplot as plt\n",
        "\n",
        "#fig, (ax1, ax2, ax3) = plt.subplots(1, 3, figsize=(12, 4))\n",
        "fig, (ax1, ax2) = plt.subplots(1, 2, figsize=(10, 4))\n",
        "sns.scatterplot(data=df, x='baby_sleep', y='parent_grumpy', ax=ax1)\n",
        "sns.scatterplot(data=df, x='parent_sleep', y='parent_grumpy', ax=ax2, color='red')\n",
        "#sns.scatterplot(data=df, x='baby_sleep', y='parent_sleep', ax=ax3, color='red')\n",
        "plt.show()"
      ]
    },
    {
      "cell_type": "markdown",
      "metadata": {
        "id": "rAF5BTULKDxk"
      },
      "source": [
        "***\n",
        "### Q3: What is the relationship that seems more important here? In other words, which do you think is a more direct cause of a parent being grumpy?\n",
        "\n",
        "\\<input your answer here - note that you should justify your answer by describing and comparing what you see in the plots above\\>\n",
        "\n",
        "Based upon the plots above, there is a stronger negative correlation between the amount of sleep the parent gets (≈-0.8) and parent grumpiness, as opposed to the relationship between parent grumpiness and the amount of sleep the baby gets(≈-0.5).\n",
        "\n",
        "***"
      ]
    },
    {
      "cell_type": "markdown",
      "metadata": {
        "id": "SKt41ipuKDxk"
      },
      "source": [
        "## Simple Linear Regression\n",
        "\n",
        "There is a lot more that could be discussed about which variable drives what, in what order, etc. For now though, let's go ahead and begin fitting a linear regression. As we've seen, simple linear regression is an approach for predicting a **quantitative response** using a **single feature** (or \"predictor\" or \"input variable\"). It takes the following form:\n",
        "\n",
        "$y = \\beta_0 + \\beta_1x \\quad $ or $ \\quad y = b + w x$\n",
        "\n",
        "What does each term represent?\n",
        "- $y$ is the response\n",
        "- $x$ is the feature\n",
        "- $\\beta_0$ is the y-intercept of the line, which we could also call the **bias** parameter, $b$\n",
        "- $\\beta_1$ is the slope of the line or coefficient for x, which we could also call the **weight** parameter, $w$\n",
        "\n",
        "Together, $\\beta_0$ and $\\beta_1$, or $b$ and $w$ are called the **model coefficients**, or **parameters** of the model. To train or fit the model it must \"learn\" the values of these parameters. Once we've learned these coefficients, we can use the model to make predictions!"
      ]
    },
    {
      "cell_type": "markdown",
      "metadata": {
        "id": "Gp1gIF1ZKDxk"
      },
      "source": [
        "What do you mean by \"learn\"?  Well you are probably more familiar with the phrase \"fit\" meaning we adjust the settings of the model coefficients (aka as parameters) until the line seems like a good summary of the data.  Fitting thus mean adjusting some internal numbers so that the better reflect the underlying data set.  Well when a human (or machine) learns it, it is in some sense of the same thing.  We change the connections of the weights (or parameters) inside our brains to help us better predict our environment.  For instance if your roommate is prone to late night partying and being grumpy the next day you might mentally fit a model to the experiences you have and \"learn\" what features are predictive of them being grumpy.  So basically fitting a linear regression model is the same as doing basic machine learning! Wow!\n",
        "\n",
        "Before we get into using the computer to \"fit\" our data, let's start simple and do things by hand. Try adjusting the sliders below to get to what you think is a good model fit. As mentioned in class, getting roughly half of the points above the line and half below the line is ideally what we want."
      ]
    },
    {
      "cell_type": "code",
      "execution_count": 7,
      "metadata": {
        "id": "EDpys2TWKDxl",
        "outputId": "d2890065-5639-4428-9f60-9447a55a0b83",
        "colab": {
          "base_uri": "https://localhost:8080/",
          "height": 606,
          "referenced_widgets": [
            "b4e66d3a16e44beb9aae0c197598fe8b",
            "7ee387b70e124526b82622c82fd8fa2e",
            "e77264a92ce2448bb2963e44822640d8",
            "7056803fb3104df6b7ad6c5c3e76c11f",
            "850b0a8acd3f42ac871f6401acd3c7e8",
            "32610a3154844ea09569af68dbd9a7cc",
            "9e0d925099964f26898cf628d315d260",
            "eb3126ee604146dfa7e54929654a2f0a",
            "478c0d62fcfb48e596071ef8460027e1",
            "3b962a7ca4e64f38a49cb6eecb92854f"
          ]
        }
      },
      "outputs": [
        {
          "output_type": "display_data",
          "data": {
            "text/plain": [
              "interactive(children=(IntSlider(value=0, description='slope', max=20, min=-20), IntSlider(value=50, descriptio…"
            ],
            "application/vnd.jupyter.widget-view+json": {
              "version_major": 2,
              "version_minor": 0,
              "model_id": "b4e66d3a16e44beb9aae0c197598fe8b"
            }
          },
          "metadata": {}
        }
      ],
      "source": [
        "from IPython.core.display import HTML, Markdown\n",
        "import ipywidgets as widgets\n",
        "import numpy as np\n",
        "\n",
        "@widgets.interact(slope=widgets.IntSlider(min=-20, max=20, step=1, value=0), intercept=widgets.IntSlider(min=0, max=200, step=1, value=50))\n",
        "def plot_grumpiness(slope, intercept):\n",
        "    predict = intercept + slope * df.parent_sleep\n",
        "    resid = df.parent_grumpy - predict\n",
        "    fig, ax = plt.subplots(figsize=(9,6))\n",
        "\n",
        "    x1 = np.linspace(df.parent_sleep.min(), df.parent_sleep.max(), 400)\n",
        "    y1 = intercept + slope * x1\n",
        "\n",
        "    ax.plot(df.parent_sleep, df.parent_grumpy, 'ko', markersize=4)\n",
        "\n",
        "    ax.plot(x1, y1, '-', color='steelblue', linewidth=1)\n",
        "    plt.xlabel(\"dad sleep\")\n",
        "    plt.ylabel(\"dad grumpy level\")\n",
        "\n",
        "    plt.show()\n"
      ]
    },
    {
      "cell_type": "markdown",
      "metadata": {
        "id": "YpmHk8_-KDxl"
      },
      "source": [
        "If you used the approach of getting half of the points above the line and half below the line, you probably realized that there are several different ways to acheive this - not all of which make sense. That's why we instead think about fitting a regression model as minimizing all **residuals**. A residual is defined as the difference between the the observation $y$ and the prediction $\\hat{y}$.\n",
        "\n",
        "Specifically, the **residual for the $i^{th}$ observation** in the data is defined as:\n",
        "* $y_i - \\hat{y}_i$\n",
        "\n",
        "The next plot shows what are known as the **residuals** between the actual data points (black) and the regression line (blue). As you can see the total amount of red changes depending on how good of a fit your parameter values give you. Use this widget to make your own *guesstimate* of what the values of $\\beta_0$ and $\\beta_1$ should be.\n"
      ]
    },
    {
      "cell_type": "code",
      "execution_count": 8,
      "metadata": {
        "id": "R35RWbnEKDxm",
        "outputId": "9936496b-3645-49a8-cbae-c212d7e59f4a",
        "colab": {
          "base_uri": "https://localhost:8080/",
          "height": 606,
          "referenced_widgets": [
            "69c24cc8f9804abda096874df5d5c47c",
            "c17441a1d0e84bcfa39d8e4e73569118",
            "cdc28877c1b749a7928f231ff1b1897f",
            "a5c2cd3623f44108a29e00f77bb99669",
            "a0a16e492bcd442a9d8c384efcd4abf9",
            "cd5a9b728bea45beb5409718e0e842bc",
            "f308ccd75a26487f851c23e6b942e143",
            "541a249b35784caab3dddf3eb75b8c53",
            "667b1632421e424185e4fbe00178a9d1",
            "a3db941da0d845a998d31a7207f866ca"
          ]
        }
      },
      "outputs": [
        {
          "output_type": "display_data",
          "data": {
            "text/plain": [
              "interactive(children=(IntSlider(value=0, description='slope', max=20, min=-20), IntSlider(value=50, descriptio…"
            ],
            "application/vnd.jupyter.widget-view+json": {
              "version_major": 2,
              "version_minor": 0,
              "model_id": "69c24cc8f9804abda096874df5d5c47c"
            }
          },
          "metadata": {}
        }
      ],
      "source": [
        "@widgets.interact(slope=widgets.IntSlider(min=-20, max=20, step=1, value=0), intercept=widgets.IntSlider(min=0, max=200, step=1, value=50))\n",
        "def plot_grumpiness(slope, intercept):\n",
        "    predict = intercept+slope*df.parent_sleep\n",
        "    resid = df.parent_grumpy-predict\n",
        "    fig, ax = plt.subplots(figsize=(9,6))\n",
        "\n",
        "    x1 = np.linspace(df.parent_sleep.min(), df.parent_sleep.max(),400)\n",
        "    y1 = intercept+slope*x1\n",
        "\n",
        "    ax.plot(df.parent_sleep, df.parent_grumpy,'ko',markersize=4)\n",
        "    ax.plot(df.parent_sleep, df.parent_grumpy-resid,'o',markersize=4,markeredgecolor='r', markeredgewidth=.4, markerfacecolor='white')\n",
        "\n",
        "    ax.plot(x1,y1,'-',color='blue',linewidth=1)\n",
        "    plt.xlabel(\"dad sleep\")\n",
        "    plt.ylabel(\"dad grumpiness\")\n",
        "\n",
        "    ax.vlines(df.parent_sleep, df.parent_grumpy, df.parent_grumpy-resid,'r',linewidth=0.5)\n",
        "    plt.show()\n",
        "\n"
      ]
    },
    {
      "cell_type": "markdown",
      "metadata": {
        "id": "ht6NKnYBKDxm"
      },
      "source": [
        "***\n",
        "### Q4: What values of $\\beta_0$ and $\\beta_1$ result in a good model fit? Is the slope positive or negative? Explain why?\n",
        "\n",
        "\\<input your answer here\\>\n",
        "\n",
        "For this model, $\\beta_1$ (slope) ≈ -11, while $\\beta_0$ (y-intercept) ≈ 139 are the best values for a good model fit.  The slope in this example is negative as the plot shows a negative correlation.  Based on the data, the less sleep the dad experiences, the more grumpy he is.\n",
        "\n",
        "***"
      ]
    },
    {
      "cell_type": "markdown",
      "metadata": {
        "id": "gUAT8FgzKDxm"
      },
      "source": [
        "## Estimating Model Coefficients (i.e. \"training\" the model)\n",
        "\n",
        "The mechanics of fitting a line to some data, or \"learning\" the model parameter values, or \"training\" the model is better done using a precise method rather than eyeballing it as you did above. Generally speaking, coefficients are estimated using the **least squares criterion**, which means we will find the line (mathematically) which minimizes the **sum of squared residuals** (or \"sum of squared errors\"). This can be summed up in the following graphic.\n",
        "\n",
        "![toyexample](https://cims.nyu.edu/~brenden/courses/labincp/_images/08_estimating_coefficients.png)\n",
        "\n",
        "In the figure above...\n",
        "- the black dots are the **observed values** of x and y,\n",
        "- the blue line is the **least squares line**,\n",
        "- the red lines are the **residuals**, which are the distances between the observed values and the least squares line.\n",
        "\n",
        "Remember, model parameters in the regression model can be interpreted as follows.\n",
        "- $\\beta_0$ is the **intercept** (the value of $y$ when $x$=0)\n",
        "- $\\beta_1$ is the **slope** (the change in $y$ divided by change in $x$)\n",
        "\n",
        "Here is a graphical depiction of those calculations:\n",
        "\n",
        "![toyexample2](https://cims.nyu.edu/~brenden/courses/labincp/_images/08_slope_intercept.png)\n"
      ]
    },
    {
      "cell_type": "markdown",
      "metadata": {
        "id": "kXMp2hxCKDxn"
      },
      "source": [
        "To find the best possible parameter values (i.e. to fit or train the model), we want to minimize the sum of squared errors. Note that since $\\hat{y}$ is a function of $\\beta_0$ and $\\beta_1$, then the sum of squared errors can be stated as a function of them (and then minimized). Namely, we want to minimize the following expression with respect to $\\beta_0$ and $\\beta_1$.\n",
        "\n",
        "* $\\sum_{i=1}^{n} (y_i - (\\beta_0 + \\beta_1 x_i))^2$\n",
        "\n",
        "We could manually calculate the values by minimizing the above, but let's first use the [statmodels](https://www.statsmodels.org/stable/install.html) Python package. See how these numbers compare to the values you found in your *guesstimate* above."
      ]
    },
    {
      "cell_type": "code",
      "execution_count": 9,
      "metadata": {
        "id": "5JFyA_2oKDxn",
        "outputId": "b5c6d6fb-d850-4ac4-91cb-556985df3421",
        "colab": {
          "base_uri": "https://localhost:8080/"
        }
      },
      "outputs": [
        {
          "output_type": "stream",
          "name": "stdout",
          "text": [
            "Intercept       125.956292\n",
            "parent_sleep     -8.936756\n",
            "dtype: float64\n"
          ]
        }
      ],
      "source": [
        "import statsmodels.formula.api as smf\n",
        "\n",
        "sm_lm = smf.ols(formula='parent_grumpy ~ parent_sleep', data=df).fit()\n",
        "print(sm_lm.params)"
      ]
    },
    {
      "cell_type": "markdown",
      "metadata": {
        "id": "rlwIIrv-KDxo"
      },
      "source": [
        "A couple of points on how we used `smf` here...\n",
        "* First is that we use the `smf.ols()` function which does an _ordinary least squares_ fit.  This is the type of fit which tries to minimize the sum of the squared residuals.  There are other types of fitting proceedures such as weighted least squares which is used when you expect the variance of the predicted variable to changes with the input predictor as well as its mean value.  We won't worry about those variations of linear regression in this class though.\n",
        "\n",
        "* Second is that we provide the `ols()` function or method with the pandas dataframe we are working with, `df`, and then provide a formula.  The formula expresses our \"_model_\" and is which variables in the data frame we are trying to relate.  Here the formula `parent_grumpy ~ parent_sleep` means that we want to predict `parent_grumpy` values given `parent_sleep` values. So you think of `parent_grumpy` as our \"_y value_\" and `parent_sleep` are our \"_x value_\".\n",
        "\n",
        "\n",
        "Although the **statsmodels** Python module is a powerful and intuitive tool for statistics, and similar to the standard libraries in R, the module that is more common among Data Scientists and Machine Learning practioners is [scikitlearn](https://scikit-learn.org/stable/). We'll use this now. Try to make a note of how the syntax is different between statsmodels and scikitlearn."
      ]
    },
    {
      "cell_type": "code",
      "execution_count": 10,
      "metadata": {
        "id": "bRW35nSxKDxs",
        "outputId": "9d1b396f-14df-406a-f7c4-32eb7aa7f4c4",
        "colab": {
          "base_uri": "https://localhost:8080/"
        }
      },
      "outputs": [
        {
          "output_type": "stream",
          "name": "stdout",
          "text": [
            "[-8.93675582] 125.95629163351283\n"
          ]
        }
      ],
      "source": [
        "from sklearn import linear_model\n",
        "\n",
        "lm = linear_model.LinearRegression()\n",
        "lm.fit(df[['parent_sleep']], df['parent_grumpy'])\n",
        "print(lm.coef_, lm.intercept_)"
      ]
    },
    {
      "cell_type": "markdown",
      "metadata": {
        "id": "_1d5RV_lKDxu"
      },
      "source": [
        "It's easy to see that the values of the parameters for both models are the same, but notice the small diffences in the names of usage of them. The **statsmodel** model gives us all of the parameters in attribute `lm.params`.\n",
        "\n",
        "With `scikitlearn`, or `sklearn` above, the model has different attributes for each parameter, `lm.coef_`, `lm.intercept`. Note that `lm.coef` itself is a list though, so if our model was going to have other predictors, i.e. other X variables or inputs, then they would be added to the list, `lm.coef`."
      ]
    },
    {
      "cell_type": "markdown",
      "metadata": {
        "id": "a07IP5qZKDxu"
      },
      "source": [
        "## Interpreting the Model\n",
        "\n",
        "One of the biggest advantages of ordinary least squares regression is that it is highly interpretable. By this, we mean to say that it's possible to look at the model parameter values and directly draw some conclusion or interpretion from it.\n",
        "\n",
        "That is, we can directly interpret the `slope` or `weight` parameter associated with `parent_sleep`, according to its value. In this case, with a value of `-8.9`, we can say:\n",
        "\n",
        "- A one \"unit\" increase in hours of sleep is associated with a -8.9367 \"unit\" decrease (because it is negative) in grumpiness. This should kind of make sense once you think about it too, i.e. more sleep = less grumpy!\n",
        "\n",
        "The other parameter in our model, the `intercept` or `bias` term, tells us what the model would predict if `X`, or `parent_sleep` in this case, were zero (0). (You can sort understand why it is referred to a bias term also, since it's the value you would get if you didn't have any information, so it's sort of a presupposed value, or bias.)\n",
        "If `parent_sleep` is zero, then `pare\n",
        "nt_grumpy` would be predicted to be 125.95. This means that if a parent gets no sleep at all their grumpiness will be at a very high level of 125.95!  Bad news."
      ]
    },
    {
      "cell_type": "markdown",
      "metadata": {
        "id": "TkZ0GNuJKDxv"
      },
      "source": [
        "***\n",
        "### Q5: Suppose that the _grumpiness_ scale is between 0 and 100. How would you explain or justify the prediction the model would make if a parent did not sleep at all the night before? Or, if they slept only one hour? What does this say about the model, is it a \"good\" or \"bad\" model?\n",
        "\n",
        "\\<input your answer here - and explain \\>\n",
        "\n",
        "***\n",
        "\n",
        "Note that this question is related to a famous saying in Statistics, which is \"*All models are wrong, but some are useful*\". This essentially says that every model has limitations, or is incorrect in some way, but can still make sense and yield useful results when used in the appropriate setting.\n",
        "\n",
        "![image](https://miro.medium.com/v2/resize:fit:1400/1*EJZZKiXLcbp_MxRW9HJrmA.jpeg)"
      ]
    },
    {
      "cell_type": "markdown",
      "metadata": {
        "id": "Q2nm6yQLKDxv"
      },
      "source": [
        "## Using the Model for Prediction\n",
        "\n",
        "Once the model has been fit or trained with the training data, we can now use it for predictions. In other words, with just the following equation it is possible to make a prediction for any new value of `x`, i.e. `parent_sleep`.\n",
        "$$y = 125.956292 + -8.936756 \\times x$$"
      ]
    },
    {
      "cell_type": "markdown",
      "metadata": {
        "id": "LTvtQeK6KDxw"
      },
      "source": [
        "***\n",
        "\n",
        "### Q5: Using only the trained model the parent now wants to make a prediction for tomorrow. Everything is going smooth so they antipicate getting a good night of sleep, or around `8.5` hours of sleep. What will their predicted level of grumpiness be tomorrow?\n",
        "\n",
        "\\<modify the following code cell to find your answer then input your answer here\\>\n",
        "\n",
        "***"
      ]
    },
    {
      "cell_type": "code",
      "execution_count": null,
      "metadata": {
        "id": "PBQ53uZmKDxw"
      },
      "outputs": [],
      "source": [
        "hours_of_sleep =\n",
        "X_new = pd.DataFrame({'parent_sleep': [hours_of_sleep]})\n",
        "lm.predict(X_new)"
      ]
    },
    {
      "cell_type": "markdown",
      "metadata": {
        "id": "7xEMUhQFKDxx"
      },
      "source": [
        "## Plotting the least squares regression line\n",
        "\n",
        "Let's take a look at the best fit line.  There are two very easy ways to do this.  One is using seaborn's regplot which takes care of all of the underlying steps to plot the regression line."
      ]
    },
    {
      "cell_type": "code",
      "execution_count": null,
      "metadata": {
        "id": "XUKl4PIKKDxx"
      },
      "outputs": [],
      "source": [
        "sns.regplot(x='parent_sleep', y='parent_grumpy', data=df)"
      ]
    },
    {
      "cell_type": "markdown",
      "metadata": {
        "id": "OrojMd-UKDxy"
      },
      "source": [
        "Alternatively, if we want more control over the plot, or want to make other modifications, then using matplotlib is often going to be preferred."
      ]
    },
    {
      "cell_type": "code",
      "execution_count": null,
      "metadata": {
        "id": "0KOFDr9MKDxy"
      },
      "outputs": [],
      "source": [
        "fig, ax = plt.subplots(figsize=(6.5,4))\n",
        "\n",
        "# create a DataFrame with the minimum and maximum values of sleep\n",
        "x1 = pd.DataFrame({'parent_sleep': [df.parent_sleep.min(), df.parent_sleep.max()]})\n",
        "y1 = lm.predict(x1)  # predict for the two data points using the fitted model in lm\n",
        "ax.plot(df.parent_sleep, df.parent_grumpy, 'ko', markersize=4)\n",
        "ax.plot(x1, y1, '-', color='steelblue', linewidth=1)\n",
        "plt.xlabel(\"parent_sleep\")\n",
        "plt.ylabel(\"parent_grumpy\")\n",
        "plt.show()"
      ]
    },
    {
      "cell_type": "markdown",
      "metadata": {
        "id": "B5tXvuR1KDxz"
      },
      "source": [
        "## Confidence in our Model\n",
        "\n",
        "As mentioned before, the **statsmodels** library offers some convience for more traditional statistics questions or tasks. One of those is getting an idea of how confident we are about the estimated values of the parameters. Looking at the confidence intervals for the parameter value estimates gives us a decent idea of whether the model fits this data reasonably well. Below we look at the 95% confidence interval, or the $(1-\\alpha)$% confidence interval.\n",
        "\n",
        "As you can see, although there is a range of possible values, the range is reasonably small, telling us that there is a high level of confidence these parameter values estimates are yielding a model that fits the data reasonably well. We have to be careful not to misinterpret this though, remember that the precise intrepretation of the confidence interval is...\n",
        "\n",
        "* If the population from which this sample was drawn was **sampled 100 times**, approximately **95 of those confidence intervals** would contain the \"true\" coefficient."
      ]
    },
    {
      "cell_type": "code",
      "execution_count": null,
      "metadata": {
        "id": "cS4q-repKDxz"
      },
      "outputs": [],
      "source": [
        "# print the confidence intervals for the model coefficients\n",
        "sm_lm.conf_int(alpha=0.05)"
      ]
    },
    {
      "cell_type": "markdown",
      "metadata": {
        "id": "Y9_IHUHjKDxz"
      },
      "source": [
        "Since the **sklearn** package tends to take more of a machine learning approach it does not have some of the same functionality as statsmodels. However, with a few more steps, it is possible to calculate. It's possible though, and you should verify that the confidence intervals are the same as above."
      ]
    },
    {
      "cell_type": "code",
      "execution_count": null,
      "metadata": {
        "id": "bWA1TCOXKDxz"
      },
      "outputs": [],
      "source": [
        "# needs the stats module for getting appropriate t-values\n",
        "from scipy import stats\n",
        "\n",
        "def get_conf_int(alpha, lr, X, y):\n",
        "    coefs = np.r_[[lr.intercept_], lr.coef_]\n",
        "    X_aux = X.copy()\n",
        "    X_aux.insert(0, 'const', 1)\n",
        "    dof = -np.diff(X_aux.shape)[0]\n",
        "    mse = np.sum((y - lr.predict(X)) ** 2) / dof\n",
        "    var_params = np.diag(np.linalg.inv(X_aux.T.dot(X_aux)))\n",
        "    t_val = stats.t.isf(alpha/2, dof)\n",
        "    gap = t_val * np.sqrt(mse * var_params)\n",
        "\n",
        "    return pd.DataFrame({\n",
        "        'lower': coefs - gap, 'upper': coefs + gap\n",
        "    }, index=X_aux.columns)\n",
        "\n",
        "get_conf_int(0.05, lm, df[['parent_sleep']], df['parent_grumpy'])"
      ]
    },
    {
      "cell_type": "code",
      "execution_count": null,
      "metadata": {
        "id": "QsIanBgwKDx0"
      },
      "outputs": [],
      "source": [
        "np.diff(df.shape)"
      ]
    },
    {
      "cell_type": "markdown",
      "metadata": {
        "id": "g2arspZ2KDx0"
      },
      "source": [
        "Again, remember that we only have a **single sample of data**, and not the **entire population of data**. The \"true\" coefficient is either within this interval or it isn't, but there's no way to actually know. We estimate the coefficient with the data we do have, and we show uncertainty about that estimate by giving a range that the coefficient is **probably** within.\n",
        "\n",
        "Also note that using 95% confidence intervals is just a convention. We could create 90% confidence intervals (which will be more narrow), or 99% confidence intervals (which will be wider), or whatever intervals we think make the most sense for our analysis/task."
      ]
    },
    {
      "cell_type": "markdown",
      "metadata": {
        "id": "pOimOiXQKDx1"
      },
      "source": [
        "## Hypothesis Testing and p-values\n",
        "\n",
        "Closely related to confidence intervals is **hypothesis testing**. Generally speaking, we start with a **null hypothesis** and an **alternative hypothesis** (that is opposite the null). Then, we check whether the data supports **rejecting the null hypothesis** or **failing to reject the null hypothesis**.\n",
        "\n",
        "(Note that \"failing to reject\" the null is not the same as \"accepting\" the null hypothesis. The alternative hypothesis may indeed be true, except that we just don't have enough data to show that.)\n",
        "\n",
        "As it relates to model coefficients, here is the conventional hypothesis test:\n",
        "- **null hypothesis:** There is no relationship between dad sleep and grumpiness (and thus $\\beta_1$ equals zero)\n",
        "- **alternative hypothesis:** There is a relationship between dad sleep and dad grumpinss (and thus $\\beta_1$ is not equal to zero)"
      ]
    },
    {
      "cell_type": "code",
      "execution_count": null,
      "metadata": {
        "id": "cjfzXdKrKDx1"
      },
      "outputs": [],
      "source": [
        "# print the p-values for the model coefficients\n",
        "sm_lm.pvalues"
      ]
    },
    {
      "cell_type": "markdown",
      "metadata": {
        "id": "O6rbV8VCKDx2"
      },
      "source": [
        "How do we test this hypothesis? Intuitively, we reject the null (and thus believe the alternative) if the 95% confidence interval **does not include zero**. That is generally much easier to intrepret than the p-value, which strictly speaking should be interpreted as follows:\n",
        "* If the null hypothesis is true, then the p-value is probability of observing the data that we did (and thus getting the model parameters that we did).\n",
        "\n",
        "In this case, since the the p-values are both so small, we can likely safely reject the null hypothesis in favor of the alternative.\n",
        "\n",
        "Note that we generally ignore the p-value for the intercept. So, focusing only on the model parameter associated with `parent_sleep`, and seeing a p-value far less than 0.05, we can conclude that there is a relationship between sleep and grumpiness."
      ]
    },
    {
      "cell_type": "markdown",
      "metadata": {
        "id": "bmTqvBdzKDx2"
      },
      "source": [
        "## How Well Does the Model Fit the data?\n",
        "\n",
        "The most common way to evaluate the overall fit of a linear model is by the **R-squared** value. R-squared is calculated in such a way that it has the direct intrepretation of being the **proportion of variance explained**, meaning the proportion of variance in the observed data that is explained by the model, or the reduction in error over the **null model**. (The null model just predicts the mean of the observed response, and thus it has an intercept and no slope.)\n",
        "\n",
        "R-squared is between 0 and 1, and higher is better because it means that more variance is explained by the model. Here's an example of what R-squared might be for different models fit to the same dataset (but a different data than our parenthood data).\n",
        "\n",
        "![polyfits](https://github.com/sgeinitz/CS3120/blob/main/images/poly_fits.png?raw=true)\n",
        "\n",
        "You can see that the **blue line** explains some of the variance in the data (R-squared=0.54), the **green line** explains more of the variance (R-squared=0.64), and the **red line** fits the training data even further (R-squared=0.66). (No need to think about this too hard right now, but which of those possible"
      ]
    },
    {
      "cell_type": "markdown",
      "metadata": {
        "id": "xAxVfq4hKDx3"
      },
      "source": [
        "Getting back to our parenthood datset, let's now calculate the R-squared value for our simple linear model."
      ]
    },
    {
      "cell_type": "code",
      "execution_count": null,
      "metadata": {
        "id": "DmGhUjNAKDx3"
      },
      "outputs": [],
      "source": [
        "sm_lm.rsquared"
      ]
    },
    {
      "cell_type": "markdown",
      "metadata": {
        "id": "yPEnW36cKDx4"
      },
      "source": [
        "It's difficult to say what \"_good_\" R-squared value is. The threshold for a good R-squared value will depend widely on the domain and data. Therefore, it's most useful as a tool for **comparing different models**, rather than as saying that a single model is \"_good_\"."
      ]
    },
    {
      "cell_type": "markdown",
      "metadata": {
        "id": "xvWz04bsKDx4"
      },
      "source": [
        "Up until now we have been pulling information from the fitted model piece by piece. However, there is a nice summary command with **statsmodels** that lets you access a bunch of information about your regression at once. Don't worry about all of the other statistics and details listed there, just know that almost all of the information you'll ever need about a linear regression model can be found there."
      ]
    },
    {
      "cell_type": "code",
      "execution_count": null,
      "metadata": {
        "id": "1rvEJbiJKDx6"
      },
      "outputs": [],
      "source": [
        "sm_lm.summary()"
      ]
    },
    {
      "cell_type": "markdown",
      "metadata": {
        "id": "1kKjAexHKDx8"
      },
      "source": [
        "## Training a Linear Regression Manually\n",
        "\n",
        "We saw how easy it is to use Python to fit (i.e. train) a linear regression model. Let's go ahead and confirm that the manual approaches we've seen, and the intuition behind them also make sense.\n",
        "\n",
        "Most often we'll see a linear regression defined for one $i^{th}$ observation or training example. Which, for the feature $x_i$ and outcome $y_i$, is written as:\n",
        "$$y_i = \\beta_0 1 + \\beta_1 x_i$$\n",
        "\n",
        "However, we also saw that this can be written in vector or matrix notation where the matrix, $X$, has a column of 1's in it.\n",
        "$$\\vec{y} = X \\vec{\\beta}$$\n",
        "where\n",
        "$$\\vec{\\beta} = \\begin{bmatrix}\\beta_0 \\\\ \\beta_1\\end{bmatrix}$$\n",
        "Then, since (or if) the columns of the matrix $X$ are linearly independent, then the matrix $(X^T X)$ has an inverse, and the model parameters can be calculated directly using:\n",
        "$$\\vec{\\beta} = (X^T X)^{-1} X^T \\vec{y}$$\n",
        "\n",
        "Let's now confirm this works using the parenthood data. We'll first create the matrix $X$, being sure to add a $1$ column since that is needed to estimate $\\beta_0$.\n"
      ]
    },
    {
      "cell_type": "code",
      "execution_count": null,
      "metadata": {
        "id": "89DN3r_EKDx-"
      },
      "outputs": [],
      "source": [
        "X = pd.DataFrame({'intercept': 1, 'parent_sleep': df.parent_sleep})\n",
        "X.head(n=3)"
      ]
    },
    {
      "cell_type": "markdown",
      "metadata": {
        "id": "-ht01qs4KDx_"
      },
      "source": [
        "Let's now do all of the remaining calculations, one step at a time."
      ]
    },
    {
      "cell_type": "code",
      "execution_count": null,
      "metadata": {
        "id": "JVDValfgKDx_"
      },
      "outputs": [],
      "source": [
        "# Calculate X^T X\n",
        "XtX = np.dot(X.T, X)\n",
        "\n",
        "# Then the inverse of X^T X\n",
        "XtX_inv = np.linalg.inv(XtX)\n",
        "\n",
        "# Then X^T y\n",
        "Xty = np.dot(X.T, df.parent_grumpy)\n",
        "\n",
        "# And lastly the coefficients\n",
        "betas = np.dot(XtX_inv, Xty)\n",
        "betas"
      ]
    },
    {
      "cell_type": "markdown",
      "metadata": {
        "id": "eSt3okeTKDx_"
      },
      "source": [
        "While the linear algebra approach is useful for understanding the underlying math from another point of view, it not immediately intuitive why it works. The following diagram is maybe the best attempt at trying to explain the intuition behind this linear algebra approach.\n",
        "\n",
        "![projection](https://github.com/sgeinitz/CS3120/blob/main/images/projection.png?raw=true)\n",
        "\n",
        "That image is telling us that the any prediction coming out of our model is going to be in the column space of $X$ (i.e. it will lay in a space that spanned by all possible linear combinations of the columns of $X$.) It is not super important that you know this, but it's a fun alternative way to see how linear regression models are fit to their data.\n",
        "\n",
        "The more intuitive way to explain how we fit a linear regression model is by looking more precisely at that quantity we want to minimize, namely the SSE:\n",
        "$$\\text{SSE} = \\sum_{i=1}^{n} (y_i - \\hat{y}_i)^2$$\n",
        "\n",
        "Recall that since $\\hat{y}_i$ is a the prediction for the $i^{th}$ observation, we can write it as $\\beta_0 + \\beta_1 x_i$, and thus rewrite SSE as:\n",
        "$$\\text{SSE} = \\sum_{i=1}^{n} \\left(y_i - (\\beta_0 + \\beta_1 x_i)\\right)^2$$\n",
        "\n",
        "Since there are two parameters, $\\beta_0, \\beta_1$, it's easy for us to visualize what the SSE looks like as a function of these two parameters. Below is a heatmap or surface plot of these. Again, to train the model we need to find the model parameter values that minimize SSE. Look at the plot below to see if you can roughly guess what the parameter values are."
      ]
    },
    {
      "cell_type": "code",
      "execution_count": null,
      "metadata": {
        "id": "1_sMp0OnKDx_"
      },
      "outputs": [],
      "source": [
        "beta0_range = 25\n",
        "beta0 = np.arange(lm.intercept_+beta0_range, lm.intercept_-beta0_range, -0.5)\n",
        "beta1_range = 4\n",
        "beta1 = np.arange(lm.coef_[0]-beta1_range, lm.coef_[0]+beta1_range, 0.1)\n",
        "surf = np.array( [[np.square(df.parent_grumpy - (beta0[i] + beta1[j]*df.parent_sleep)).sum() for j in range(len(beta1))] for i in range(len(beta0))] )\n",
        "df_surf = pd.DataFrame(surf, columns=beta1, index=beta0)\n",
        "\n",
        "fig, ax = plt.subplots(figsize=(10, 8))\n",
        "sns.heatmap(df_surf, cbar_kws={'label': 'SSE'}, cmap=\"RdYlGn_r\", ax=ax)\n",
        "ax.contour(np.arange(.5, df_surf.shape[1]), np.arange(.5, df_surf.shape[0]), df_surf, colors='black', levels=[1960, 9000, 50000, 150000], linewidths=0.5)\n",
        "\n",
        "plt.xlabel(\"beta1\")\n",
        "plt.ylabel(\"beta0\")\n",
        "plt.show()\n"
      ]
    },
    {
      "cell_type": "markdown",
      "metadata": {
        "id": "H9uauDTRKDyA"
      },
      "source": [
        "You probably already figured out how to find the parameter values above, which is to look at the values of $beta_0$ and $\\beta_1$ that corresponded to the lowest point on the surface. We can look the data used in the plot and see here."
      ]
    },
    {
      "cell_type": "code",
      "execution_count": null,
      "metadata": {
        "id": "aJDIe7naKDyA"
      },
      "outputs": [],
      "source": [
        "# find the minimum of the surface\n",
        "beta0_min, beta1_min = np.unravel_index(surf.argmin(), surf.shape)\n",
        "beta0[beta0_min], beta1[beta1_min]"
      ]
    },
    {
      "cell_type": "markdown",
      "metadata": {
        "id": "e-YzAobAKDyA"
      },
      "source": [
        "Notice that those values are nearly exactly what we found using **statsmodels**, **sklearn**, as well as the linear algebra approach. Let's try one more way of finding these parameter values now. For this we'll use calculus to solve for values of $\\beta_0$ and $\\beta_1$ that give us the minimum on the surface above (i.e. the value where the slope of the surface is zero).\n",
        "\n",
        "If you recall from Calculus class, we simply need to write the SSE as a function of the model parameters, $\\beta_0$, $\\beta_1$, and set it to zero, then solve. It's not important that you know how to do this exactly, but it's important to know that this is yet another way to think about \"_training_\" a linear regression model. Let's first explicitly state that the SSE is a function of the model parameters:\n",
        "$$\\text{SSE}(\\beta_0, \\beta_1) = \\sum_{i=1}^{n} \\left( y_i - (\\beta_0 + \\beta_1 x_i) \\right)^2$$\n"
      ]
    },
    {
      "cell_type": "markdown",
      "metadata": {
        "id": "2-ABsOrnKDyB"
      },
      "source": [
        "Steps to Solve for $\\beta_0$ and $\\beta_1$ Using Calculus\n",
        "\n",
        "1. Partial Derivatives\n",
        "   - To minimize SSE, take the partial derivatives of SSE with respect to $\\beta_0$ and $\\beta_1$, and set them equal to zero.\n",
        "\n",
        "   Partial Derivative with respect to $\\beta_0$:\n",
        "   $$\\frac{\\partial \\text{SSE}}{\\partial \\beta_0} = \\sum_{i=1}^{n} -2 \\cdot \\left( y_i - \\beta_0 - \\beta_1 \\cdot x_i \\right) = 0$$\n",
        "\n",
        "   Partial Derivative with respect to $\\beta_1$:\n",
        "   $$\\frac{\\partial \\text{SSE}}{\\partial \\beta_1} = \\sum_{i=1}^{n} -2 \\cdot x_i \\cdot \\left( y_i - \\beta_0 - \\beta_1 \\cdot x_i \\right) = 0$$\n",
        "\n",
        "2. Simplify the Equations\n",
        "   - Simplify the partial derivative equations to form two normal equations.\n",
        "\n",
        "   For $\\beta_0$:\n",
        "   $$\\sum_{i=1}^{n} \\left( y_i - \\beta_0 - \\beta_1 \\cdot x_i \\right) = 0$$\n",
        "   - Expanding and beginning to isolate $\\beta_0$, we get:\n",
        "   $$\\sum_{i=1}^{n} y_i - n \\cdot \\beta_0 + \\beta_1 \\sum_{i=1}^{n} x_i = 0 \\quad \\rightarrow \\quad n \\cdot \\beta_0 = \\sum_{i=1}^{n} y_i -\\beta_1 \\cdot \\sum_{i=1}^{n} x_i $$\n",
        "   - Divide by $n$ to get:\n",
        "   $$\\beta_0 = \\bar{y} - \\beta_1 \\cdot \\bar{x}$$\n",
        "   where $\\bar{y} = \\frac{1}{n} \\sum_{i=1}^{n} y_i$ and $\\bar{x} = \\frac{1}{n} \\sum_{i=1}^{n} x_i$ are the means of $y$ and $x$, respectively.\n",
        "\n",
        "   For $\\beta_1$:\n",
        "   $$\\sum_{i=1}^{n} x_i \\cdot y_i = \\beta_0 \\cdot \\sum_{i=1}^{n} x_i + \\beta_1 \\cdot \\sum_{i=1}^{n} x_i^2$$\n",
        "   - Substitute $\\beta_0 = \\bar{y} - \\beta_1 \\cdot \\bar{x}$ into this equation:\n",
        "   $$\\sum_{i=1}^{n} x_i \\cdot y_i = (\\bar{y} - \\beta_1 \\cdot \\bar{x}) \\cdot \\sum_{i=1}^{n} x_i + \\beta_1 \\cdot \\sum_{i=1}^{n} x_i^2$$\n",
        "   - After expanding and simplifying:\n",
        "   $$\\beta_1 = \\frac{\\sum_{i=1}^{n} \\left( x_i - \\bar{x} \\right) \\left( y_i - \\bar{y} \\right)}{\\sum_{i=1}^{n} \\left( x_i - \\bar{x} \\right)^2}$$\n",
        "\n",
        "Let's now use these formulas to \"train\" the model (i.e. calculate the values of the parameters $\\beta_0$, $\\beta_1$) for our given training dataset.\n"
      ]
    },
    {
      "cell_type": "code",
      "execution_count": null,
      "metadata": {
        "id": "fwRlbtAiKDyC"
      },
      "outputs": [],
      "source": [
        "n = df.shape[0] # this is the number of observations or training examples\n",
        "b1_numerator = np.sum((df.parent_grumpy - df.parent_grumpy.mean()) * (df.parent_sleep - df.parent_sleep.mean()))\n",
        "b1_denominator = np.sum((df.parent_sleep - df.parent_sleep.mean()) ** 2)\n",
        "beta1_hat = b1_numerator / b1_denominator\n",
        "\n",
        "beta0_hat = df.parent_grumpy.mean() - beta1_hat * df.parent_sleep.mean()\n",
        "(beta0_hat, beta1_hat)"
      ]
    },
    {
      "cell_type": "markdown",
      "metadata": {
        "id": "6kcxNZOFKDyC"
      },
      "source": [
        "As you can see, those values are the exact same as we found earlier. You may have noticed that the formulas we found for $\\beta_0$ and $\\beta_1$ above contain some terms that look similar to variance and covariance calculations. Given that, we could also calculate these values in a more concise manner using **numpy's** functions for these descriptive statistics."
      ]
    },
    {
      "cell_type": "code",
      "execution_count": null,
      "metadata": {
        "id": "097_IuhQKDyC"
      },
      "outputs": [],
      "source": [
        "cov = np.cov(df.parent_sleep, df.parent_grumpy, ddof=0) # calculate the covariance of x=df.parent_sleep and y=df.parent_grumpy\n",
        "var_x = np.var(df.parent_sleep, ddof=0) # calculate the variance of x=df.parent_sleep\n",
        "\n",
        "beta1_hat = cov[0,1] / var_x\n",
        "beta0_hat = df.parent_grumpy.mean() - beta1_hat * df.parent_sleep.mean()\n",
        "(beta0_hat, beta1_hat)"
      ]
    },
    {
      "cell_type": "markdown",
      "metadata": {
        "id": "fzgoIubTKDyD"
      },
      "source": [
        "Hopefully it is somewhat satisfying to see that regardless of the approach we used, we still come up with the same model fit (i.e. the model parameters have the same values). We won't look at them here, but there are even more ways to state these formulas, including with the correlation between $x$ and $y$.\n",
        "\n",
        "Next, let's assume that when the data was collected, the amount of sleep a parent had was recorded in minuts. The cell below creates this column, `parent_sleep_minutes`. Use this for the following question."
      ]
    },
    {
      "cell_type": "code",
      "execution_count": null,
      "metadata": {
        "id": "LOhpksBUKDyD"
      },
      "outputs": [],
      "source": [
        "df['parent_sleep_minutes'] = df['parent_sleep']*60\n",
        "df.parent_sleep_minutes.describe()"
      ]
    },
    {
      "cell_type": "markdown",
      "metadata": {
        "id": "HjSegOYfKDyE"
      },
      "source": [
        " ***\n",
        "\n",
        " ### Q6: Fit a new linear regression model with **statsmodels** where `parent_sleep_minutes` is used to predict `parent_grumpy`. Does this affect the model parameter estimates? Are they the same? Or different?\n",
        "\n",
        " \\<modify the code in the cell below and modify it to fit the linear regression model and retrieve the model summary. Then input your here - be sure to state what the grumpiness value the model predicted\\>\n",
        "\n",
        " ***"
      ]
    },
    {
      "cell_type": "code",
      "execution_count": null,
      "metadata": {
        "id": "RmtCjjL5KDyE"
      },
      "outputs": [],
      "source": [
        "sm_lm_min = smf.ols(formula=' ~ ', data=df).fit()\n",
        "sm_lm_min.params"
      ]
    },
    {
      "cell_type": "markdown",
      "metadata": {
        "id": "MpPIn_YQKDyE"
      },
      "source": [
        "***\n",
        "\n",
        "### Q7: Does having `parent_sleep` measured in different units affect how well the model fits the data? In other words, is the $R^2$ different from when `parent_sleep` was measured in hours? Also, are the p-values associated with $\\beta_0$, $\\beta_1$ different? What does this tell you about how linear regression models are affected by a variable being scaled?\n",
        "\n",
        "\\<insert a code cell below then use `sm_lm_min.summary()` to retrieve the model summary and then input your answer here\\>\n",
        "\n",
        "***"
      ]
    },
    {
      "cell_type": "markdown",
      "metadata": {
        "id": "H84A669TKDyE"
      },
      "source": [
        "### Multiple Linear Regression\n",
        "\n",
        "What we've looked at so far is commonly referred to as *Simple Linear Regression*, which is when there is one *predictor* (or *feature* or *independent variable*), $x$, and we are trying to predict the *outcome* or *response* or *dependent variable*, $y$. Linear Regression is a powerful and commonly used tool though, so you can imagine that it's not too difficult to add more predictors. Below is an example where we'll try fitting a *Multiple linear Regression* model, which is a linear regression model with more two or more *predictors* (or *features* or *independent variables*).\n",
        "\n",
        "The dataset is a (hypothetical) company's advertising spend and sales they have made for each day. There are four columns in the data:\n",
        "* `tv` - amount of money spent on television advertising last week\n",
        "* `radio` - amount of money spent on radio advertising last week\n",
        "* `newspaper` - amount of money spent on newpaper advertising last week\n",
        "* `sales` - number of widgets (in thousands) the company sold last week"
      ]
    },
    {
      "cell_type": "code",
      "execution_count": null,
      "metadata": {
        "id": "q7Zz9cOyKDyF"
      },
      "outputs": [],
      "source": [
        "df_adv = pd.read_csv('https://raw.githubusercontent.com/sgeinitz/CS3120/main/lab1_data_advertising.csv')\n",
        "df_adv.head()"
      ]
    },
    {
      "cell_type": "markdown",
      "metadata": {
        "id": "MXyhVSfQKDyF"
      },
      "source": [
        "Let's also get a quick idea of what the data looks like in terms of min, max, mean, etc."
      ]
    },
    {
      "cell_type": "code",
      "execution_count": null,
      "metadata": {
        "id": "Cppgw462KDyF"
      },
      "outputs": [],
      "source": [
        "df_adv.describe()"
      ]
    },
    {
      "cell_type": "markdown",
      "metadata": {
        "id": "-edGbOt1KDyG"
      },
      "source": [
        "***\n",
        "\n",
        " ### Q8: As we said, any data analysis or modeling task first requires looking at or visualizing the data. Plot the each of the independent variables (`tv`, `radio`, `newspaper`) against the dependent variable, `sales`. Then state which of them you think looks like it going to best predict `sales`.\n",
        "\n",
        "\\<modify the code cell below (the first is done for you) and then input your answer here\\>\n",
        "\n",
        "***\n",
        "\n",
        "If you can, try to put all of the plots together in a single figure."
      ]
    },
    {
      "cell_type": "code",
      "execution_count": null,
      "metadata": {
        "id": "lY_I__5cKDyG"
      },
      "outputs": [],
      "source": [
        "# plot all three of the features against sales\n",
        "fig, (ax1, ax2, ax3) = plt.subplots(1, 3, figsize=(15, 5))\n",
        "sns.scatterplot(data=df_adv, x='tv', y='sales', ax=ax1)\n",
        "sns.scatterplot(data=df_adv, x='radio', y='sales', ax=ax2)\n",
        "sns.scatterplot(data=df_adv, x='newspaper', y='sales', ax=ax3)\n",
        "plt.show()\n"
      ]
    },
    {
      "cell_type": "markdown",
      "metadata": {
        "id": "73nhtuFSKDyG"
      },
      "source": [
        "Next, let's fit a linear regression model using all three variables."
      ]
    },
    {
      "cell_type": "code",
      "execution_count": null,
      "metadata": {
        "id": "SWq62C0sKDyH"
      },
      "outputs": [],
      "source": [
        "lm_adv = smf.ols(formula='sales ~ tv + radio + newspaper', data=df_adv).fit()\n",
        "lm_adv.summary()"
      ]
    },
    {
      "cell_type": "markdown",
      "metadata": {
        "id": "8StulIg5KDyH"
      },
      "source": [
        "It looks like that model fits pretty well. But, based on the plots you saw above, it looks like there is not an exact linear relationship between `tv` and `sales`...\n",
        "\n",
        "***\n",
        "\n",
        "### Q9: Try fitting a model to this dataset with `radio` and `newspaper` included, but use the square root of `tv`. Then print the summary of the model to see the $R^2$. If you worked for this company, which model do you think you would use? The one above or this new one you created here? Explain why.\n",
        "\n",
        "\\<fix the code cell below to fit the model described above and then input your answer here>\n",
        "\n",
        "***\n",
        "\n",
        "Hints:\n",
        "* Use [this reference](https://www.statsmodels.org/dev/example_formulas.html#functions) to see how to include a function of an independent variable in your model\n",
        "* The function, `np.sqrt( )` is numpy's square root function"
      ]
    },
    {
      "cell_type": "code",
      "execution_count": null,
      "metadata": {
        "id": "wqoW_ddTKDyH"
      },
      "outputs": [],
      "source": [
        "lm_adv = smf.ols(formula='sales ~ ', data=df_adv).fit()\n",
        "lm_adv.summary()"
      ]
    },
    {
      "cell_type": "markdown",
      "metadata": {
        "id": "fbJevLpuKDyI"
      },
      "source": [
        "Nice work completing this notebook. If you didn't already appreciate the power of linear regression, hopefully this helped convince you in some way. Even though we will use lots of other types of models, you will almost always want to start with linear regression because of its simplicity, stability, and flexibility. We'll always want to use the *right model for the task at hand* though, so we probably don't want to be too much like either of the people below :)\n",
        "\n",
        "![Example Image](https://media.licdn.com/dms/image/v2/D4E22AQFLVt8372oIQA/feedshare-shrink_800/feedshare-shrink_800/0/1710511681665?e=1727308800&v=beta&t=XephAeg6t9otHgyXtIHxbYiAxJdKOkH0uP0pU9eP2oY)\n"
      ]
    }
  ],
  "metadata": {
    "kernelspec": {
      "display_name": "Python 3 (ipykernel)",
      "language": "python",
      "name": "python3"
    },
    "language_info": {
      "codemirror_mode": {
        "name": "ipython",
        "version": 3
      },
      "file_extension": ".py",
      "mimetype": "text/x-python",
      "name": "python",
      "nbconvert_exporter": "python",
      "pygments_lexer": "ipython3",
      "version": "3.12.4"
    },
    "toc": {
      "base_numbering": 1,
      "nav_menu": {},
      "number_sections": true,
      "sideBar": true,
      "skip_h1_title": false,
      "title_cell": "Table of Contents",
      "title_sidebar": "Contents",
      "toc_cell": false,
      "toc_position": {},
      "toc_section_display": true,
      "toc_window_display": false
    },
    "colab": {
      "provenance": []
    },
    "widgets": {
      "application/vnd.jupyter.widget-state+json": {
        "b4e66d3a16e44beb9aae0c197598fe8b": {
          "model_module": "@jupyter-widgets/controls",
          "model_name": "VBoxModel",
          "model_module_version": "1.5.0",
          "state": {
            "_dom_classes": [
              "widget-interact"
            ],
            "_model_module": "@jupyter-widgets/controls",
            "_model_module_version": "1.5.0",
            "_model_name": "VBoxModel",
            "_view_count": null,
            "_view_module": "@jupyter-widgets/controls",
            "_view_module_version": "1.5.0",
            "_view_name": "VBoxView",
            "box_style": "",
            "children": [
              "IPY_MODEL_7ee387b70e124526b82622c82fd8fa2e",
              "IPY_MODEL_e77264a92ce2448bb2963e44822640d8",
              "IPY_MODEL_7056803fb3104df6b7ad6c5c3e76c11f"
            ],
            "layout": "IPY_MODEL_850b0a8acd3f42ac871f6401acd3c7e8"
          }
        },
        "7ee387b70e124526b82622c82fd8fa2e": {
          "model_module": "@jupyter-widgets/controls",
          "model_name": "IntSliderModel",
          "model_module_version": "1.5.0",
          "state": {
            "_dom_classes": [],
            "_model_module": "@jupyter-widgets/controls",
            "_model_module_version": "1.5.0",
            "_model_name": "IntSliderModel",
            "_view_count": null,
            "_view_module": "@jupyter-widgets/controls",
            "_view_module_version": "1.5.0",
            "_view_name": "IntSliderView",
            "continuous_update": true,
            "description": "slope",
            "description_tooltip": null,
            "disabled": false,
            "layout": "IPY_MODEL_32610a3154844ea09569af68dbd9a7cc",
            "max": 20,
            "min": -20,
            "orientation": "horizontal",
            "readout": true,
            "readout_format": "d",
            "step": 1,
            "style": "IPY_MODEL_9e0d925099964f26898cf628d315d260",
            "value": -11
          }
        },
        "e77264a92ce2448bb2963e44822640d8": {
          "model_module": "@jupyter-widgets/controls",
          "model_name": "IntSliderModel",
          "model_module_version": "1.5.0",
          "state": {
            "_dom_classes": [],
            "_model_module": "@jupyter-widgets/controls",
            "_model_module_version": "1.5.0",
            "_model_name": "IntSliderModel",
            "_view_count": null,
            "_view_module": "@jupyter-widgets/controls",
            "_view_module_version": "1.5.0",
            "_view_name": "IntSliderView",
            "continuous_update": true,
            "description": "intercept",
            "description_tooltip": null,
            "disabled": false,
            "layout": "IPY_MODEL_eb3126ee604146dfa7e54929654a2f0a",
            "max": 200,
            "min": 0,
            "orientation": "horizontal",
            "readout": true,
            "readout_format": "d",
            "step": 1,
            "style": "IPY_MODEL_478c0d62fcfb48e596071ef8460027e1",
            "value": 139
          }
        },
        "7056803fb3104df6b7ad6c5c3e76c11f": {
          "model_module": "@jupyter-widgets/output",
          "model_name": "OutputModel",
          "model_module_version": "1.0.0",
          "state": {
            "_dom_classes": [],
            "_model_module": "@jupyter-widgets/output",
            "_model_module_version": "1.0.0",
            "_model_name": "OutputModel",
            "_view_count": null,
            "_view_module": "@jupyter-widgets/output",
            "_view_module_version": "1.0.0",
            "_view_name": "OutputView",
            "layout": "IPY_MODEL_3b962a7ca4e64f38a49cb6eecb92854f",
            "msg_id": "",
            "outputs": [
              {
                "output_type": "display_data",
                "data": {
                  "text/plain": "<Figure size 900x600 with 1 Axes>",
                  "image/png": "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\n"
                },
                "metadata": {}
              }
            ]
          }
        },
        "850b0a8acd3f42ac871f6401acd3c7e8": {
          "model_module": "@jupyter-widgets/base",
          "model_name": "LayoutModel",
          "model_module_version": "1.2.0",
          "state": {
            "_model_module": "@jupyter-widgets/base",
            "_model_module_version": "1.2.0",
            "_model_name": "LayoutModel",
            "_view_count": null,
            "_view_module": "@jupyter-widgets/base",
            "_view_module_version": "1.2.0",
            "_view_name": "LayoutView",
            "align_content": null,
            "align_items": null,
            "align_self": null,
            "border": null,
            "bottom": null,
            "display": null,
            "flex": null,
            "flex_flow": null,
            "grid_area": null,
            "grid_auto_columns": null,
            "grid_auto_flow": null,
            "grid_auto_rows": null,
            "grid_column": null,
            "grid_gap": null,
            "grid_row": null,
            "grid_template_areas": null,
            "grid_template_columns": null,
            "grid_template_rows": null,
            "height": null,
            "justify_content": null,
            "justify_items": null,
            "left": null,
            "margin": null,
            "max_height": null,
            "max_width": null,
            "min_height": null,
            "min_width": null,
            "object_fit": null,
            "object_position": null,
            "order": null,
            "overflow": null,
            "overflow_x": null,
            "overflow_y": null,
            "padding": null,
            "right": null,
            "top": null,
            "visibility": null,
            "width": null
          }
        },
        "32610a3154844ea09569af68dbd9a7cc": {
          "model_module": "@jupyter-widgets/base",
          "model_name": "LayoutModel",
          "model_module_version": "1.2.0",
          "state": {
            "_model_module": "@jupyter-widgets/base",
            "_model_module_version": "1.2.0",
            "_model_name": "LayoutModel",
            "_view_count": null,
            "_view_module": "@jupyter-widgets/base",
            "_view_module_version": "1.2.0",
            "_view_name": "LayoutView",
            "align_content": null,
            "align_items": null,
            "align_self": null,
            "border": null,
            "bottom": null,
            "display": null,
            "flex": null,
            "flex_flow": null,
            "grid_area": null,
            "grid_auto_columns": null,
            "grid_auto_flow": null,
            "grid_auto_rows": null,
            "grid_column": null,
            "grid_gap": null,
            "grid_row": null,
            "grid_template_areas": null,
            "grid_template_columns": null,
            "grid_template_rows": null,
            "height": null,
            "justify_content": null,
            "justify_items": null,
            "left": null,
            "margin": null,
            "max_height": null,
            "max_width": null,
            "min_height": null,
            "min_width": null,
            "object_fit": null,
            "object_position": null,
            "order": null,
            "overflow": null,
            "overflow_x": null,
            "overflow_y": null,
            "padding": null,
            "right": null,
            "top": null,
            "visibility": null,
            "width": null
          }
        },
        "9e0d925099964f26898cf628d315d260": {
          "model_module": "@jupyter-widgets/controls",
          "model_name": "SliderStyleModel",
          "model_module_version": "1.5.0",
          "state": {
            "_model_module": "@jupyter-widgets/controls",
            "_model_module_version": "1.5.0",
            "_model_name": "SliderStyleModel",
            "_view_count": null,
            "_view_module": "@jupyter-widgets/base",
            "_view_module_version": "1.2.0",
            "_view_name": "StyleView",
            "description_width": "",
            "handle_color": null
          }
        },
        "eb3126ee604146dfa7e54929654a2f0a": {
          "model_module": "@jupyter-widgets/base",
          "model_name": "LayoutModel",
          "model_module_version": "1.2.0",
          "state": {
            "_model_module": "@jupyter-widgets/base",
            "_model_module_version": "1.2.0",
            "_model_name": "LayoutModel",
            "_view_count": null,
            "_view_module": "@jupyter-widgets/base",
            "_view_module_version": "1.2.0",
            "_view_name": "LayoutView",
            "align_content": null,
            "align_items": null,
            "align_self": null,
            "border": null,
            "bottom": null,
            "display": null,
            "flex": null,
            "flex_flow": null,
            "grid_area": null,
            "grid_auto_columns": null,
            "grid_auto_flow": null,
            "grid_auto_rows": null,
            "grid_column": null,
            "grid_gap": null,
            "grid_row": null,
            "grid_template_areas": null,
            "grid_template_columns": null,
            "grid_template_rows": null,
            "height": null,
            "justify_content": null,
            "justify_items": null,
            "left": null,
            "margin": null,
            "max_height": null,
            "max_width": null,
            "min_height": null,
            "min_width": null,
            "object_fit": null,
            "object_position": null,
            "order": null,
            "overflow": null,
            "overflow_x": null,
            "overflow_y": null,
            "padding": null,
            "right": null,
            "top": null,
            "visibility": null,
            "width": null
          }
        },
        "478c0d62fcfb48e596071ef8460027e1": {
          "model_module": "@jupyter-widgets/controls",
          "model_name": "SliderStyleModel",
          "model_module_version": "1.5.0",
          "state": {
            "_model_module": "@jupyter-widgets/controls",
            "_model_module_version": "1.5.0",
            "_model_name": "SliderStyleModel",
            "_view_count": null,
            "_view_module": "@jupyter-widgets/base",
            "_view_module_version": "1.2.0",
            "_view_name": "StyleView",
            "description_width": "",
            "handle_color": null
          }
        },
        "3b962a7ca4e64f38a49cb6eecb92854f": {
          "model_module": "@jupyter-widgets/base",
          "model_name": "LayoutModel",
          "model_module_version": "1.2.0",
          "state": {
            "_model_module": "@jupyter-widgets/base",
            "_model_module_version": "1.2.0",
            "_model_name": "LayoutModel",
            "_view_count": null,
            "_view_module": "@jupyter-widgets/base",
            "_view_module_version": "1.2.0",
            "_view_name": "LayoutView",
            "align_content": null,
            "align_items": null,
            "align_self": null,
            "border": null,
            "bottom": null,
            "display": null,
            "flex": null,
            "flex_flow": null,
            "grid_area": null,
            "grid_auto_columns": null,
            "grid_auto_flow": null,
            "grid_auto_rows": null,
            "grid_column": null,
            "grid_gap": null,
            "grid_row": null,
            "grid_template_areas": null,
            "grid_template_columns": null,
            "grid_template_rows": null,
            "height": null,
            "justify_content": null,
            "justify_items": null,
            "left": null,
            "margin": null,
            "max_height": null,
            "max_width": null,
            "min_height": null,
            "min_width": null,
            "object_fit": null,
            "object_position": null,
            "order": null,
            "overflow": null,
            "overflow_x": null,
            "overflow_y": null,
            "padding": null,
            "right": null,
            "top": null,
            "visibility": null,
            "width": null
          }
        },
        "69c24cc8f9804abda096874df5d5c47c": {
          "model_module": "@jupyter-widgets/controls",
          "model_name": "VBoxModel",
          "model_module_version": "1.5.0",
          "state": {
            "_dom_classes": [
              "widget-interact"
            ],
            "_model_module": "@jupyter-widgets/controls",
            "_model_module_version": "1.5.0",
            "_model_name": "VBoxModel",
            "_view_count": null,
            "_view_module": "@jupyter-widgets/controls",
            "_view_module_version": "1.5.0",
            "_view_name": "VBoxView",
            "box_style": "",
            "children": [
              "IPY_MODEL_c17441a1d0e84bcfa39d8e4e73569118",
              "IPY_MODEL_cdc28877c1b749a7928f231ff1b1897f",
              "IPY_MODEL_a5c2cd3623f44108a29e00f77bb99669"
            ],
            "layout": "IPY_MODEL_a0a16e492bcd442a9d8c384efcd4abf9"
          }
        },
        "c17441a1d0e84bcfa39d8e4e73569118": {
          "model_module": "@jupyter-widgets/controls",
          "model_name": "IntSliderModel",
          "model_module_version": "1.5.0",
          "state": {
            "_dom_classes": [],
            "_model_module": "@jupyter-widgets/controls",
            "_model_module_version": "1.5.0",
            "_model_name": "IntSliderModel",
            "_view_count": null,
            "_view_module": "@jupyter-widgets/controls",
            "_view_module_version": "1.5.0",
            "_view_name": "IntSliderView",
            "continuous_update": true,
            "description": "slope",
            "description_tooltip": null,
            "disabled": false,
            "layout": "IPY_MODEL_cd5a9b728bea45beb5409718e0e842bc",
            "max": 20,
            "min": -20,
            "orientation": "horizontal",
            "readout": true,
            "readout_format": "d",
            "step": 1,
            "style": "IPY_MODEL_f308ccd75a26487f851c23e6b942e143",
            "value": -11
          }
        },
        "cdc28877c1b749a7928f231ff1b1897f": {
          "model_module": "@jupyter-widgets/controls",
          "model_name": "IntSliderModel",
          "model_module_version": "1.5.0",
          "state": {
            "_dom_classes": [],
            "_model_module": "@jupyter-widgets/controls",
            "_model_module_version": "1.5.0",
            "_model_name": "IntSliderModel",
            "_view_count": null,
            "_view_module": "@jupyter-widgets/controls",
            "_view_module_version": "1.5.0",
            "_view_name": "IntSliderView",
            "continuous_update": true,
            "description": "intercept",
            "description_tooltip": null,
            "disabled": false,
            "layout": "IPY_MODEL_541a249b35784caab3dddf3eb75b8c53",
            "max": 200,
            "min": 0,
            "orientation": "horizontal",
            "readout": true,
            "readout_format": "d",
            "step": 1,
            "style": "IPY_MODEL_667b1632421e424185e4fbe00178a9d1",
            "value": 140
          }
        },
        "a5c2cd3623f44108a29e00f77bb99669": {
          "model_module": "@jupyter-widgets/output",
          "model_name": "OutputModel",
          "model_module_version": "1.0.0",
          "state": {
            "_dom_classes": [],
            "_model_module": "@jupyter-widgets/output",
            "_model_module_version": "1.0.0",
            "_model_name": "OutputModel",
            "_view_count": null,
            "_view_module": "@jupyter-widgets/output",
            "_view_module_version": "1.0.0",
            "_view_name": "OutputView",
            "layout": "IPY_MODEL_a3db941da0d845a998d31a7207f866ca",
            "msg_id": "",
            "outputs": [
              {
                "output_type": "display_data",
                "data": {
                  "text/plain": "<Figure size 900x600 with 1 Axes>",
                  "image/png": "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\n"
                },
                "metadata": {}
              }
            ]
          }
        },
        "a0a16e492bcd442a9d8c384efcd4abf9": {
          "model_module": "@jupyter-widgets/base",
          "model_name": "LayoutModel",
          "model_module_version": "1.2.0",
          "state": {
            "_model_module": "@jupyter-widgets/base",
            "_model_module_version": "1.2.0",
            "_model_name": "LayoutModel",
            "_view_count": null,
            "_view_module": "@jupyter-widgets/base",
            "_view_module_version": "1.2.0",
            "_view_name": "LayoutView",
            "align_content": null,
            "align_items": null,
            "align_self": null,
            "border": null,
            "bottom": null,
            "display": null,
            "flex": null,
            "flex_flow": null,
            "grid_area": null,
            "grid_auto_columns": null,
            "grid_auto_flow": null,
            "grid_auto_rows": null,
            "grid_column": null,
            "grid_gap": null,
            "grid_row": null,
            "grid_template_areas": null,
            "grid_template_columns": null,
            "grid_template_rows": null,
            "height": null,
            "justify_content": null,
            "justify_items": null,
            "left": null,
            "margin": null,
            "max_height": null,
            "max_width": null,
            "min_height": null,
            "min_width": null,
            "object_fit": null,
            "object_position": null,
            "order": null,
            "overflow": null,
            "overflow_x": null,
            "overflow_y": null,
            "padding": null,
            "right": null,
            "top": null,
            "visibility": null,
            "width": null
          }
        },
        "cd5a9b728bea45beb5409718e0e842bc": {
          "model_module": "@jupyter-widgets/base",
          "model_name": "LayoutModel",
          "model_module_version": "1.2.0",
          "state": {
            "_model_module": "@jupyter-widgets/base",
            "_model_module_version": "1.2.0",
            "_model_name": "LayoutModel",
            "_view_count": null,
            "_view_module": "@jupyter-widgets/base",
            "_view_module_version": "1.2.0",
            "_view_name": "LayoutView",
            "align_content": null,
            "align_items": null,
            "align_self": null,
            "border": null,
            "bottom": null,
            "display": null,
            "flex": null,
            "flex_flow": null,
            "grid_area": null,
            "grid_auto_columns": null,
            "grid_auto_flow": null,
            "grid_auto_rows": null,
            "grid_column": null,
            "grid_gap": null,
            "grid_row": null,
            "grid_template_areas": null,
            "grid_template_columns": null,
            "grid_template_rows": null,
            "height": null,
            "justify_content": null,
            "justify_items": null,
            "left": null,
            "margin": null,
            "max_height": null,
            "max_width": null,
            "min_height": null,
            "min_width": null,
            "object_fit": null,
            "object_position": null,
            "order": null,
            "overflow": null,
            "overflow_x": null,
            "overflow_y": null,
            "padding": null,
            "right": null,
            "top": null,
            "visibility": null,
            "width": null
          }
        },
        "f308ccd75a26487f851c23e6b942e143": {
          "model_module": "@jupyter-widgets/controls",
          "model_name": "SliderStyleModel",
          "model_module_version": "1.5.0",
          "state": {
            "_model_module": "@jupyter-widgets/controls",
            "_model_module_version": "1.5.0",
            "_model_name": "SliderStyleModel",
            "_view_count": null,
            "_view_module": "@jupyter-widgets/base",
            "_view_module_version": "1.2.0",
            "_view_name": "StyleView",
            "description_width": "",
            "handle_color": null
          }
        },
        "541a249b35784caab3dddf3eb75b8c53": {
          "model_module": "@jupyter-widgets/base",
          "model_name": "LayoutModel",
          "model_module_version": "1.2.0",
          "state": {
            "_model_module": "@jupyter-widgets/base",
            "_model_module_version": "1.2.0",
            "_model_name": "LayoutModel",
            "_view_count": null,
            "_view_module": "@jupyter-widgets/base",
            "_view_module_version": "1.2.0",
            "_view_name": "LayoutView",
            "align_content": null,
            "align_items": null,
            "align_self": null,
            "border": null,
            "bottom": null,
            "display": null,
            "flex": null,
            "flex_flow": null,
            "grid_area": null,
            "grid_auto_columns": null,
            "grid_auto_flow": null,
            "grid_auto_rows": null,
            "grid_column": null,
            "grid_gap": null,
            "grid_row": null,
            "grid_template_areas": null,
            "grid_template_columns": null,
            "grid_template_rows": null,
            "height": null,
            "justify_content": null,
            "justify_items": null,
            "left": null,
            "margin": null,
            "max_height": null,
            "max_width": null,
            "min_height": null,
            "min_width": null,
            "object_fit": null,
            "object_position": null,
            "order": null,
            "overflow": null,
            "overflow_x": null,
            "overflow_y": null,
            "padding": null,
            "right": null,
            "top": null,
            "visibility": null,
            "width": null
          }
        },
        "667b1632421e424185e4fbe00178a9d1": {
          "model_module": "@jupyter-widgets/controls",
          "model_name": "SliderStyleModel",
          "model_module_version": "1.5.0",
          "state": {
            "_model_module": "@jupyter-widgets/controls",
            "_model_module_version": "1.5.0",
            "_model_name": "SliderStyleModel",
            "_view_count": null,
            "_view_module": "@jupyter-widgets/base",
            "_view_module_version": "1.2.0",
            "_view_name": "StyleView",
            "description_width": "",
            "handle_color": null
          }
        },
        "a3db941da0d845a998d31a7207f866ca": {
          "model_module": "@jupyter-widgets/base",
          "model_name": "LayoutModel",
          "model_module_version": "1.2.0",
          "state": {
            "_model_module": "@jupyter-widgets/base",
            "_model_module_version": "1.2.0",
            "_model_name": "LayoutModel",
            "_view_count": null,
            "_view_module": "@jupyter-widgets/base",
            "_view_module_version": "1.2.0",
            "_view_name": "LayoutView",
            "align_content": null,
            "align_items": null,
            "align_self": null,
            "border": null,
            "bottom": null,
            "display": null,
            "flex": null,
            "flex_flow": null,
            "grid_area": null,
            "grid_auto_columns": null,
            "grid_auto_flow": null,
            "grid_auto_rows": null,
            "grid_column": null,
            "grid_gap": null,
            "grid_row": null,
            "grid_template_areas": null,
            "grid_template_columns": null,
            "grid_template_rows": null,
            "height": null,
            "justify_content": null,
            "justify_items": null,
            "left": null,
            "margin": null,
            "max_height": null,
            "max_width": null,
            "min_height": null,
            "min_width": null,
            "object_fit": null,
            "object_position": null,
            "order": null,
            "overflow": null,
            "overflow_x": null,
            "overflow_y": null,
            "padding": null,
            "right": null,
            "top": null,
            "visibility": null,
            "width": null
          }
        }
      }
    }
  },
  "nbformat": 4,
  "nbformat_minor": 0
}